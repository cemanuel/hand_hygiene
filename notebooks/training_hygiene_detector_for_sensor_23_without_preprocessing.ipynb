{
 "cells": [
  {
   "cell_type": "code",
   "execution_count": 1,
   "metadata": {
    "collapsed": true
   },
   "outputs": [],
   "source": [
    "import PAC_experiment_class as pac\n",
    "import os\n",
    "os.environ['TF_CPP_MIN_LOG_LEVEL'] = '3'\n",
    "import tensorflow as tf\n",
    "from tensorflow.python.client import timeline\n",
    "import time"
   ]
  },
  {
   "cell_type": "code",
   "execution_count": 2,
   "metadata": {
    "collapsed": true
   },
   "outputs": [],
   "source": [
    "experiment_directory_suffix = \"hygiene_detector_for_sensor_23_without_preprocessing\"\n",
    "experiment_directory_name = None"
   ]
  },
  {
   "cell_type": "code",
   "execution_count": null,
   "metadata": {
    "collapsed": true
   },
   "outputs": [],
   "source": [
    "def initialize_params_for_experiment():\n",
    "    params_initialization_for_training = {}\n",
    "    params_initialization_for_training['training_path_zero_labeled'] = \"data/0/training_filenames_23.txt\"\n",
    "    params_initialization_for_training['training_path_one_labeled'] = \"data/1/training_filenames_23.txt\"\n",
    "    params_initialization_for_training['batch_size'] = 64\n",
    "    params_initialization_for_training['stage_of_development'] = \"training\"\n",
    "    params_initialization_for_training['learning_rate'] = 0.001\n",
    "    params_initialization_for_training['learning_rate_decay_factor'] = 0.99\n",
    "    params_initialization_for_training['max_steps'] = None\n",
    "    params_initialization_for_training['num_epochs'] = 1\n",
    "    params_initialization_for_training['use_preprocessing'] = False\n",
    "    return pac.initialize_params(experiment_directory_name,\n",
    "                          experiment_directory_suffix,\n",
    "                          \"training\",\n",
    "                          params_initialization_for_training=params_initialization_for_training)"
   ]
  },
  {
   "cell_type": "code",
   "execution_count": null,
   "metadata": {
    "collapsed": false
   },
   "outputs": [
    {
     "name": "stdout",
     "output_type": "stream",
     "text": [
      "Created model with fresh parameters.\n",
      "Will not use preprocessing\n",
      "Length of Time (in seconds) for preprocessing 12.791303873062134\n",
      "Batch Size of List of Filenames 64\n",
      "Batch Size of List of Label Images 64\n",
      "global step 1 learning rate 0.0010 step-time 3.73 loss 0.69\n",
      "Batch Size of List of Filenames 64\n",
      "Batch Size of List of Label Images 64\n",
      "global step 2 learning rate 0.0010 step-time 4.17 loss 0.68\n",
      "Batch Size of List of Filenames 64\n",
      "Batch Size of List of Label Images 64\n",
      "global step 3 learning rate 0.0010 step-time 5.03 loss 0.69\n",
      "Batch Size of List of Filenames 64\n",
      "Batch Size of List of Label Images 64\n",
      "global step 4 learning rate 0.0010 step-time 5.22 loss 0.68\n",
      "Batch Size of List of Filenames 64\n",
      "Batch Size of List of Label Images 64\n",
      "global step 5 learning rate 0.0010 step-time 6.52 loss 0.68\n",
      "Batch Size of List of Filenames 64\n",
      "Batch Size of List of Label Images 64\n",
      "global step 6 learning rate 0.0010 step-time 5.45 loss 0.68\n",
      "Batch Size of List of Filenames 64\n",
      "Batch Size of List of Label Images 64\n",
      "global step 7 learning rate 0.0010 step-time 8.87 loss 0.69\n",
      "Batch Size of List of Filenames 64\n",
      "Batch Size of List of Label Images 64\n",
      "global step 8 learning rate 0.0010 step-time 9.21 loss 0.67\n",
      "Batch Size of List of Filenames 64\n",
      "Batch Size of List of Label Images 64\n",
      "global step 9 learning rate 0.0010 step-time 9.74 loss 0.68\n",
      "Batch Size of List of Filenames 64\n",
      "Batch Size of List of Label Images 64\n",
      "global step 10 learning rate 0.0010 step-time 9.23 loss 0.66\n",
      "Batch Size of List of Filenames 64\n",
      "Batch Size of List of Label Images 64\n",
      "global step 11 learning rate 0.0010 step-time 9.01 loss 0.68\n",
      "Batch Size of List of Filenames 64\n",
      "Batch Size of List of Label Images 64\n",
      "global step 12 learning rate 0.0010 step-time 10.42 loss 0.66\n",
      "Batch Size of List of Filenames 64\n",
      "Batch Size of List of Label Images 64\n",
      "global step 13 learning rate 0.0010 step-time 8.93 loss 0.66\n",
      "Batch Size of List of Filenames 64\n",
      "Batch Size of List of Label Images 64\n",
      "global step 14 learning rate 0.0010 step-time 9.84 loss 0.67\n",
      "Batch Size of List of Filenames 64\n",
      "Batch Size of List of Label Images 64\n",
      "global step 15 learning rate 0.0010 step-time 9.03 loss 0.67\n",
      "Batch Size of List of Filenames 64\n",
      "Batch Size of List of Label Images 64\n",
      "global step 16 learning rate 0.0010 step-time 10.44 loss 0.66\n",
      "Batch Size of List of Filenames 64\n",
      "Batch Size of List of Label Images 64\n",
      "global step 17 learning rate 0.0010 step-time 11.50 loss 0.66\n",
      "Batch Size of List of Filenames 64\n",
      "Batch Size of List of Label Images 64\n",
      "global step 18 learning rate 0.0010 step-time 9.06 loss 0.65\n",
      "Batch Size of List of Filenames 64\n",
      "Batch Size of List of Label Images 64\n",
      "global step 19 learning rate 0.0010 step-time 9.88 loss 0.65\n",
      "Batch Size of List of Filenames 64\n",
      "Batch Size of List of Label Images 64\n",
      "global step 20 learning rate 0.0010 step-time 9.45 loss 0.65\n",
      "Batch Size of List of Filenames 64\n",
      "Batch Size of List of Label Images 64\n",
      "global step 21 learning rate 0.0010 step-time 7.42 loss 0.66\n",
      "Batch Size of List of Filenames 64\n",
      "Batch Size of List of Label Images 64\n",
      "global step 22 learning rate 0.0010 step-time 10.16 loss 0.66\n",
      "Batch Size of List of Filenames 64\n",
      "Batch Size of List of Label Images 64\n",
      "global step 23 learning rate 0.0010 step-time 6.58 loss 0.65\n",
      "Batch Size of List of Filenames 64\n",
      "Batch Size of List of Label Images 64\n",
      "global step 24 learning rate 0.0010 step-time 7.03 loss 0.64\n",
      "Batch Size of List of Filenames 64\n",
      "Batch Size of List of Label Images 64\n",
      "global step 25 learning rate 0.0010 step-time 6.94 loss 0.64\n",
      "Batch Size of List of Filenames 64\n",
      "Batch Size of List of Label Images 64\n",
      "global step 26 learning rate 0.0010 step-time 7.40 loss 0.65\n",
      "Batch Size of List of Filenames 64\n",
      "Batch Size of List of Label Images 64\n",
      "global step 27 learning rate 0.0010 step-time 7.59 loss 0.64\n",
      "Batch Size of List of Filenames 64\n",
      "Batch Size of List of Label Images 64\n",
      "global step 28 learning rate 0.0010 step-time 7.33 loss 0.64\n",
      "Batch Size of List of Filenames 64\n",
      "Batch Size of List of Label Images 64\n",
      "global step 29 learning rate 0.0010 step-time 6.23 loss 0.65\n",
      "Batch Size of List of Filenames 64\n",
      "Batch Size of List of Label Images 64\n",
      "global step 30 learning rate 0.0010 step-time 6.14 loss 0.64\n",
      "Batch Size of List of Filenames 64\n",
      "Batch Size of List of Label Images 64\n",
      "global step 31 learning rate 0.0010 step-time 6.01 loss 0.65\n",
      "Batch Size of List of Filenames 64\n",
      "Batch Size of List of Label Images 64\n",
      "global step 32 learning rate 0.0010 step-time 6.12 loss 0.65\n",
      "Batch Size of List of Filenames 64\n",
      "Batch Size of List of Label Images 64\n",
      "global step 33 learning rate 0.0010 step-time 6.14 loss 0.64\n",
      "Batch Size of List of Filenames 64\n",
      "Batch Size of List of Label Images 64\n",
      "global step 34 learning rate 0.0010 step-time 7.51 loss 0.63\n",
      "Batch Size of List of Filenames 64\n",
      "Batch Size of List of Label Images 64\n",
      "global step 35 learning rate 0.0010 step-time 7.44 loss 0.61\n",
      "Batch Size of List of Filenames 64\n",
      "Batch Size of List of Label Images 64\n",
      "global step 36 learning rate 0.0010 step-time 6.84 loss 0.64\n",
      "Batch Size of List of Filenames 64\n",
      "Batch Size of List of Label Images 64\n",
      "global step 37 learning rate 0.0010 step-time 7.65 loss 0.63\n",
      "Batch Size of List of Filenames 64\n",
      "Batch Size of List of Label Images 64\n",
      "global step 38 learning rate 0.0010 step-time 6.87 loss 0.61\n",
      "Batch Size of List of Filenames 64\n",
      "Batch Size of List of Label Images 64\n",
      "global step 39 learning rate 0.0010 step-time 7.93 loss 0.64\n",
      "Batch Size of List of Filenames 64\n",
      "Batch Size of List of Label Images 64\n",
      "global step 40 learning rate 0.0010 step-time 7.33 loss 0.60\n",
      "Batch Size of List of Filenames 64\n",
      "Batch Size of List of Label Images 64\n",
      "global step 41 learning rate 0.0010 step-time 7.33 loss 0.62\n",
      "Batch Size of List of Filenames 64\n",
      "Batch Size of List of Label Images 64\n",
      "global step 42 learning rate 0.0010 step-time 8.50 loss 0.62\n",
      "Batch Size of List of Filenames 64\n",
      "Batch Size of List of Label Images 64\n",
      "global step 43 learning rate 0.0010 step-time 8.54 loss 0.62\n",
      "Batch Size of List of Filenames 64\n",
      "Batch Size of List of Label Images 64\n",
      "global step 44 learning rate 0.0009 step-time 7.92 loss 0.62\n",
      "Batch Size of List of Filenames 64\n",
      "Batch Size of List of Label Images 64\n",
      "global step 45 learning rate 0.0009 step-time 8.21 loss 0.61\n",
      "Batch Size of List of Filenames 64\n",
      "Batch Size of List of Label Images 64\n",
      "global step 46 learning rate 0.0009 step-time 8.06 loss 0.60\n",
      "Batch Size of List of Filenames 64\n",
      "Batch Size of List of Label Images 64\n",
      "global step 47 learning rate 0.0009 step-time 6.56 loss 0.60\n",
      "Batch Size of List of Filenames 64\n",
      "Batch Size of List of Label Images 64\n",
      "global step 48 learning rate 0.0009 step-time 6.64 loss 0.62\n",
      "Batch Size of List of Filenames 64\n",
      "Batch Size of List of Label Images 64\n",
      "global step 49 learning rate 0.0009 step-time 6.58 loss 0.61\n",
      "Batch Size of List of Filenames 64\n",
      "Batch Size of List of Label Images 64\n",
      "global step 50 learning rate 0.0009 step-time 8.16 loss 0.59\n",
      "Batch Size of List of Filenames 64\n",
      "Batch Size of List of Label Images 64\n",
      "global step 51 learning rate 0.0009 step-time 8.15 loss 0.61\n",
      "Batch Size of List of Filenames 64\n",
      "Batch Size of List of Label Images 64\n",
      "global step 52 learning rate 0.0009 step-time 8.43 loss 0.60\n",
      "Batch Size of List of Filenames 64\n",
      "Batch Size of List of Label Images 64\n",
      "global step 53 learning rate 0.0009 step-time 7.18 loss 0.60\n",
      "Batch Size of List of Filenames 64\n",
      "Batch Size of List of Label Images 64\n",
      "global step 54 learning rate 0.0009 step-time 7.66 loss 0.62\n",
      "Batch Size of List of Filenames 64\n",
      "Batch Size of List of Label Images 64\n",
      "global step 55 learning rate 0.0009 step-time 7.90 loss 0.61\n",
      "Batch Size of List of Filenames 64\n",
      "Batch Size of List of Label Images 64\n",
      "global step 56 learning rate 0.0009 step-time 8.14 loss 0.57\n",
      "Batch Size of List of Filenames 64\n",
      "Batch Size of List of Label Images 64\n",
      "global step 57 learning rate 0.0009 step-time 8.27 loss 0.61\n",
      "Batch Size of List of Filenames 64\n",
      "Batch Size of List of Label Images 64\n",
      "global step 58 learning rate 0.0009 step-time 8.34 loss 0.61\n",
      "Batch Size of List of LAST Filenames 64\n",
      "Batch Size of List of LAST Label Images 64\n",
      "global step 59 learning rate 0.0009 step-time 7.33 loss 0.57\n"
     ]
    }
   ],
   "source": [
    "params, filenames_of_training_images, labels_of_training_images = initialize_params_for_experiment()\n",
    "pac.run_training_with_feed_dictionary(params, \"/gpu:0\", filenames_of_training_images, labels_of_training_images)"
   ]
  },
  {
   "cell_type": "code",
   "execution_count": null,
   "metadata": {
    "collapsed": true
   },
   "outputs": [],
   "source": []
  },
  {
   "cell_type": "code",
   "execution_count": null,
   "metadata": {
    "collapsed": true
   },
   "outputs": [],
   "source": [
    "def initialize_params_for_resuming_training_from_checkpoint():\n",
    "    params_initialization_for_resume_training = {}\n",
    "    params_initialization_for_resume_training['resume_training'] = True\n",
    "    params_initialization_for_resume_training['training_path_zero_labeled'] = \"data/0/training_filenames_23.txt\"\n",
    "    params_initialization_for_resume_training['training_path_one_labeled'] = \"data/1/training_filenames_23.txt\"\n",
    "    params_initialization_for_resume_training['data_dir'] = 'data'\n",
    "    params_initialization_for_resume_training['logs_dir'] = 'logs'\n",
    "    params_initialization_for_resume_training['max_steps'] = 4\n",
    "    params_initialization_for_resume_training['num_epochs'] = 1\n",
    "    params_initialization_for_resume_training['batch_size'] = 32\n",
    "    params_initialization_for_resume_training['use_preprocessing'] = False\n",
    "    return pac.initialize_params(experiment_directory_name,\n",
    "           experiment_directory_suffix,\n",
    "           \"resume_training\",\n",
    "           params_initialization_for_resume_training=params_initialization_for_resume_training)"
   ]
  },
  {
   "cell_type": "code",
   "execution_count": null,
   "metadata": {
    "collapsed": true
   },
   "outputs": [],
   "source": [
    "params, filenames_of_resume_training_images, labels_of_resume_training_images = initialize_params_for_resuming_training_from_checkpoint()\n",
    "pac.run_training_with_feed_dictionary(params, \"/gpu:0\", filenames_of_resume_training_images, labels_of_resume_training_images)"
   ]
  },
  {
   "cell_type": "code",
   "execution_count": null,
   "metadata": {
    "collapsed": true
   },
   "outputs": [],
   "source": []
  },
  {
   "cell_type": "code",
   "execution_count": null,
   "metadata": {
    "collapsed": true
   },
   "outputs": [],
   "source": [
    "def initialize_params_for_evaluation_from_checkpoint():\n",
    "    params_initialization_for_evaluation = {}\n",
    "    params_initialization_for_evaluation['evaluate_model'] = True\n",
    "    params_initialization_for_evaluation['resume_training'] = False\n",
    "    params_initialization_for_evaluation['stage_of_development'] = \"evaluation\"\n",
    "    params_initialization_for_evaluation['dev_path_zero_labeled'] = \"data/0/dev_filenames_23.txt\"\n",
    "    params_initialization_for_evaluation['dev_path_one_labeled'] = \"data/1/dev_filenames_23.txt\"\n",
    "    params_initialization_for_evaluation['data_dir'] = 'data'\n",
    "    params_initialization_for_evaluation['logs_dir'] = 'logs'\n",
    "    params_initialization_for_evaluation['max_steps'] = None\n",
    "    params_initialization_for_evaluation['num_epochs'] = 1\n",
    "    params_initialization_for_evaluation['batch_size'] = 32\n",
    "    params_initialization_for_evaluation['use_preprocessing'] = False\n",
    "    return pac.initialize_params(experiment_directory_name,\n",
    "                                    experiment_directory_suffix,\n",
    "                                    \"evaluation\",\n",
    "                                    params_initialization_for_evaluation=params_initialization_for_evaluation)"
   ]
  },
  {
   "cell_type": "code",
   "execution_count": null,
   "metadata": {
    "collapsed": false
   },
   "outputs": [
    {
     "name": "stdout",
     "output_type": "stream",
     "text": [
      "Reading model parameters from logs/0000000023_experiment_2018-01-17_20:56:22_hygiene_detector_for_sensor_23_without_preprocessing/translate.ckpt-59\n",
      "Done creating the model.\n",
      "False\n",
      "Length of Time (in seconds) for preprocessing 7.308507919311523\n",
      "Accuracy For Current Batch: 0.75 \n",
      "Accuracy For Current Batch: 0.8125 \n",
      "Accuracy For Current Batch: 0.84375 \n",
      "Accuracy For Current Batch: 0.78125 \n",
      "Accuracy For Current Batch: 0.90625 \n",
      "Accuracy For Current Batch: 0.8125 \n",
      "Accuracy For Current Batch: 0.84375 \n",
      "Accuracy For Current Batch: 0.875 \n",
      "Accuracy For Current Batch: 0.75 \n",
      "Accuracy For Current Batch: 0.78125 \n",
      "Accuracy For Current Batch: 0.84375 \n",
      "Accuracy For Current Batch: 0.90625 \n",
      "Accuracy For Current Batch: 0.90625 \n",
      "Accuracy For Current Batch: 0.84375 \n",
      "Accuracy For Current Batch: 0.90625 \n",
      "Accuracy For Current Batch: 0.78125 \n",
      "Accuracy For Current Batch: 0.8125 \n",
      "Accuracy For Current Batch: 0.84375 \n",
      "Accuracy For Current Batch: 0.84375 \n",
      "Accuracy For Current Batch: 0.8125 \n",
      "Accuracy For Current Batch: 0.90625 \n",
      "Accuracy For Current Batch: 0.90625 \n",
      "Accuracy For Current Batch: 0.875 \n",
      "Accuracy For Current Batch: 0.875 \n",
      "Accuracy For Current Batch: 0.9375 \n",
      "Accuracy For Current Batch: 0.90625 \n",
      "Accuracy For Current Batch: 0.84375 \n",
      "Accuracy For Current Batch: 0.875 \n",
      "Accuracy For Current Batch: 0.9375 \n",
      "Accuracy For Current Batch: 0.90625 \n",
      "Accuracy For Current Batch: 0.9375 \n",
      "Accuracy For Current Batch: 0.84375 \n",
      "Accuracy For Current Batch: 0.8125 \n",
      "Accuracy For Current Batch: 0.71875 \n",
      "Average Accuracy Across Batches: 0.8511029411764706 \n"
     ]
    }
   ],
   "source": [
    "params, filenames_of_evaluation_images, labels_of_evaluation_images = initialize_params_for_evaluation_from_checkpoint()\n",
    "pac.evaluate_model_with_feed_dictionary(params, \"/gpu:0\", filenames_of_evaluation_images, labels_of_evaluation_images)"
   ]
  },
  {
   "cell_type": "code",
   "execution_count": null,
   "metadata": {
    "collapsed": true
   },
   "outputs": [],
   "source": []
  }
 ],
 "metadata": {
  "kernelspec": {
   "display_name": "Python 3",
   "language": "python",
   "name": "python3"
  },
  "language_info": {
   "codemirror_mode": {
    "name": "ipython",
    "version": 3
   },
   "file_extension": ".py",
   "mimetype": "text/x-python",
   "name": "python",
   "nbconvert_exporter": "python",
   "pygments_lexer": "ipython3",
   "version": "3.5.2"
  }
 },
 "nbformat": 4,
 "nbformat_minor": 0
}
