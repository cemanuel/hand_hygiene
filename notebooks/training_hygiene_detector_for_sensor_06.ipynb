{
 "cells": [
  {
   "cell_type": "code",
   "execution_count": 1,
   "metadata": {
    "collapsed": true
   },
   "outputs": [],
   "source": [
    "import PAC_experiment_class as pac\n",
    "import os\n",
    "os.environ['TF_CPP_MIN_LOG_LEVEL'] = '3'\n",
    "import tensorflow as tf\n",
    "from tensorflow.python.client import timeline\n",
    "import time"
   ]
  },
  {
   "cell_type": "code",
   "execution_count": 2,
   "metadata": {
    "collapsed": true
   },
   "outputs": [],
   "source": [
    "experiment_directory_suffix = \"hygiene_detector_for_sensor_06\"\n",
    "experiment_directory_name = None"
   ]
  },
  {
   "cell_type": "code",
   "execution_count": 3,
   "metadata": {
    "collapsed": true
   },
   "outputs": [],
   "source": [
    "def initialize_params_for_experiment():\n",
    "    params_initialization_for_training = {}\n",
    "    params_initialization_for_training['training_path_zero_labeled'] = \"data/0/training_filenames_06.txt\"\n",
    "    params_initialization_for_training['training_path_one_labeled'] = \"data/1/training_filenames_06.txt\"\n",
    "    params_initialization_for_training['batch_size'] = 64\n",
    "    params_initialization_for_training['stage_of_development'] = \"training\"\n",
    "    params_initialization_for_training['learning_rate'] = 0.001\n",
    "    params_initialization_for_training['learning_rate_decay_factor'] = 0.99\n",
    "    params_initialization_for_training['max_steps'] = None\n",
    "    params_initialization_for_training['num_epochs'] = 1\n",
    "    return pac.initialize_params(experiment_directory_name,\n",
    "                          experiment_directory_suffix,\n",
    "                          \"training\",\n",
    "                          params_initialization_for_training=params_initialization_for_training)"
   ]
  },
  {
   "cell_type": "code",
   "execution_count": 4,
   "metadata": {
    "collapsed": false
   },
   "outputs": [
    {
     "name": "stdout",
     "output_type": "stream",
     "text": [
      "Created model with fresh parameters.\n",
      "95.86015892028809\n",
      "Batch Size of List of Filenames 64\n",
      "Batch Size of List of Label Images 64\n",
      "global step 1 learning rate 0.0010 step-time 6.48 loss 0.70\n",
      "Batch Size of List of Filenames 64\n",
      "Batch Size of List of Label Images 64\n",
      "global step 2 learning rate 0.0010 step-time 6.41 loss 0.71\n",
      "Batch Size of List of Filenames 64\n",
      "Batch Size of List of Label Images 64\n",
      "global step 3 learning rate 0.0010 step-time 5.56 loss 0.70\n",
      "Batch Size of List of Filenames 64\n",
      "Batch Size of List of Label Images 64\n",
      "global step 4 learning rate 0.0010 step-time 6.63 loss 0.70\n",
      "Batch Size of List of Filenames 64\n",
      "Batch Size of List of Label Images 64\n",
      "global step 5 learning rate 0.0010 step-time 6.50 loss 0.70\n",
      "Batch Size of List of Filenames 64\n",
      "Batch Size of List of Label Images 64\n",
      "global step 6 learning rate 0.0010 step-time 5.30 loss 0.71\n",
      "Batch Size of List of Filenames 64\n",
      "Batch Size of List of Label Images 64\n",
      "global step 7 learning rate 0.0010 step-time 5.27 loss 0.71\n",
      "Batch Size of List of Filenames 64\n",
      "Batch Size of List of Label Images 64\n",
      "global step 8 learning rate 0.0010 step-time 5.16 loss 0.70\n",
      "Batch Size of List of Filenames 64\n",
      "Batch Size of List of Label Images 64\n",
      "global step 9 learning rate 0.0010 step-time 5.21 loss 0.70\n",
      "Batch Size of List of Filenames 64\n",
      "Batch Size of List of Label Images 64\n",
      "global step 10 learning rate 0.0010 step-time 5.19 loss 0.70\n",
      "Batch Size of List of Filenames 64\n",
      "Batch Size of List of Label Images 64\n",
      "global step 11 learning rate 0.0010 step-time 5.14 loss 0.70\n",
      "Batch Size of List of Filenames 64\n",
      "Batch Size of List of Label Images 64\n",
      "global step 12 learning rate 0.0010 step-time 5.27 loss 0.70\n",
      "Batch Size of List of Filenames 64\n",
      "Batch Size of List of Label Images 64\n",
      "global step 13 learning rate 0.0010 step-time 5.17 loss 0.70\n",
      "Batch Size of List of Filenames 64\n",
      "Batch Size of List of Label Images 64\n",
      "global step 14 learning rate 0.0010 step-time 5.11 loss 0.70\n",
      "Batch Size of List of Filenames 64\n",
      "Batch Size of List of Label Images 64\n",
      "global step 15 learning rate 0.0010 step-time 5.23 loss 0.70\n",
      "Batch Size of List of Filenames 64\n",
      "Batch Size of List of Label Images 64\n",
      "global step 16 learning rate 0.0010 step-time 5.20 loss 0.69\n",
      "Batch Size of List of Filenames 64\n",
      "Batch Size of List of Label Images 64\n",
      "global step 17 learning rate 0.0010 step-time 5.04 loss 0.69\n",
      "Batch Size of List of Filenames 64\n",
      "Batch Size of List of Label Images 64\n",
      "global step 18 learning rate 0.0010 step-time 5.06 loss 0.69\n",
      "Batch Size of List of Filenames 64\n",
      "Batch Size of List of Label Images 64\n",
      "global step 19 learning rate 0.0010 step-time 5.12 loss 0.70\n",
      "Batch Size of List of Filenames 64\n",
      "Batch Size of List of Label Images 64\n",
      "global step 20 learning rate 0.0010 step-time 5.17 loss 0.69\n",
      "Batch Size of List of Filenames 64\n",
      "Batch Size of List of Label Images 64\n",
      "global step 21 learning rate 0.0010 step-time 5.09 loss 0.69\n",
      "Batch Size of List of Filenames 64\n",
      "Batch Size of List of Label Images 64\n",
      "global step 22 learning rate 0.0010 step-time 5.80 loss 0.69\n",
      "Batch Size of List of Filenames 64\n",
      "Batch Size of List of Label Images 64\n",
      "global step 23 learning rate 0.0010 step-time 6.28 loss 0.69\n",
      "Batch Size of List of Filenames 64\n",
      "Batch Size of List of Label Images 64\n",
      "global step 24 learning rate 0.0010 step-time 6.06 loss 0.69\n",
      "Batch Size of List of Filenames 64\n",
      "Batch Size of List of Label Images 64\n",
      "global step 25 learning rate 0.0010 step-time 6.11 loss 0.69\n",
      "Batch Size of List of Filenames 64\n",
      "Batch Size of List of Label Images 64\n",
      "global step 26 learning rate 0.0010 step-time 5.86 loss 0.70\n",
      "Batch Size of List of Filenames 64\n",
      "Batch Size of List of Label Images 64\n",
      "global step 27 learning rate 0.0010 step-time 5.93 loss 0.69\n",
      "Batch Size of List of Filenames 64\n",
      "Batch Size of List of Label Images 64\n",
      "global step 28 learning rate 0.0010 step-time 5.15 loss 0.68\n",
      "Batch Size of List of Filenames 64\n",
      "Batch Size of List of Label Images 64\n",
      "global step 29 learning rate 0.0010 step-time 5.20 loss 0.68\n",
      "Batch Size of List of Filenames 64\n",
      "Batch Size of List of Label Images 64\n",
      "global step 30 learning rate 0.0010 step-time 5.17 loss 0.69\n",
      "Batch Size of List of Filenames 64\n",
      "Batch Size of List of Label Images 64\n",
      "global step 31 learning rate 0.0009 step-time 5.28 loss 0.68\n",
      "Batch Size of List of Filenames 64\n",
      "Batch Size of List of Label Images 64\n",
      "global step 32 learning rate 0.0009 step-time 5.11 loss 0.69\n",
      "Batch Size of List of Filenames 64\n",
      "Batch Size of List of Label Images 64\n",
      "global step 33 learning rate 0.0009 step-time 5.14 loss 0.69\n",
      "Batch Size of List of Filenames 64\n",
      "Batch Size of List of Label Images 64\n",
      "global step 34 learning rate 0.0009 step-time 5.16 loss 0.69\n",
      "Batch Size of List of Filenames 64\n",
      "Batch Size of List of Label Images 64\n",
      "global step 35 learning rate 0.0009 step-time 5.13 loss 0.68\n",
      "Batch Size of List of Filenames 64\n",
      "Batch Size of List of Label Images 64\n",
      "global step 36 learning rate 0.0009 step-time 5.11 loss 0.68\n",
      "Batch Size of List of Filenames 64\n",
      "Batch Size of List of Label Images 64\n",
      "global step 37 learning rate 0.0009 step-time 5.05 loss 0.68\n",
      "Batch Size of List of Filenames 64\n",
      "Batch Size of List of Label Images 64\n",
      "global step 38 learning rate 0.0009 step-time 5.15 loss 0.69\n",
      "Batch Size of List of Filenames 64\n",
      "Batch Size of List of Label Images 64\n",
      "global step 39 learning rate 0.0009 step-time 5.12 loss 0.68\n",
      "Batch Size of List of Filenames 64\n",
      "Batch Size of List of Label Images 64\n",
      "global step 40 learning rate 0.0009 step-time 5.12 loss 0.68\n",
      "Batch Size of List of Filenames 64\n",
      "Batch Size of List of Label Images 64\n",
      "global step 41 learning rate 0.0009 step-time 5.32 loss 0.68\n",
      "Batch Size of List of Filenames 64\n",
      "Batch Size of List of Label Images 64\n",
      "global step 42 learning rate 0.0009 step-time 5.15 loss 0.68\n",
      "Batch Size of List of Filenames 64\n",
      "Batch Size of List of Label Images 64\n",
      "global step 43 learning rate 0.0009 step-time 5.08 loss 0.68\n",
      "Batch Size of List of Filenames 64\n",
      "Batch Size of List of Label Images 64\n",
      "global step 44 learning rate 0.0009 step-time 5.15 loss 0.69\n",
      "Batch Size of List of Filenames 64\n",
      "Batch Size of List of Label Images 64\n",
      "global step 45 learning rate 0.0009 step-time 5.07 loss 0.67\n",
      "Batch Size of List of Filenames 64\n",
      "Batch Size of List of Label Images 64\n",
      "global step 46 learning rate 0.0009 step-time 5.19 loss 0.67\n",
      "Batch Size of List of Filenames 64\n",
      "Batch Size of List of Label Images 64\n",
      "global step 47 learning rate 0.0009 step-time 5.09 loss 0.68\n",
      "Batch Size of List of Filenames 64\n",
      "Batch Size of List of Label Images 64\n",
      "global step 48 learning rate 0.0009 step-time 5.52 loss 0.68\n",
      "Batch Size of List of Filenames 64\n",
      "Batch Size of List of Label Images 64\n",
      "global step 49 learning rate 0.0009 step-time 5.17 loss 0.68\n",
      "Batch Size of List of LAST Filenames 64\n",
      "Batch Size of List of LAST Label Images 64\n",
      "global step 50 learning rate 0.0009 step-time 5.15 loss 0.68\n"
     ]
    }
   ],
   "source": [
    "params, filenames_of_training_images, labels_of_training_images = initialize_params_for_experiment()\n",
    "if params != None and filenames_of_training_images != None and labels_of_training_images != None:\n",
    "    pac.run_training_with_feed_dictionary(params, \"/gpu:0\", filenames_of_training_images, labels_of_training_images)"
   ]
  },
  {
   "cell_type": "code",
   "execution_count": null,
   "metadata": {
    "collapsed": true
   },
   "outputs": [],
   "source": []
  },
  {
   "cell_type": "code",
   "execution_count": null,
   "metadata": {
    "collapsed": true
   },
   "outputs": [],
   "source": [
    "def initialize_params_for_resuming_training_from_checkpoint():\n",
    "    params_initialization_for_resume_training = {}\n",
    "    params_initialization_for_resume_training['resume_training'] = True\n",
    "    params_initialization_for_resume_training['training_path_zero_labeled'] = \"data/0/training_filenames_06.txt\"\n",
    "    params_initialization_for_resume_training['training_path_one_labeled'] = \"data/1/training_filenames_06.txt\"\n",
    "    params_initialization_for_resume_training['data_dir'] = 'data'\n",
    "    params_initialization_for_resume_training['logs_dir'] = 'logs'\n",
    "    params_initialization_for_resume_training['max_steps'] = 4\n",
    "    params_initialization_for_resume_training['num_epochs'] = 1\n",
    "    params_initialization_for_resume_training['batch_size'] = 32\n",
    "    return pac.initialize_params(experiment_directory_name,\n",
    "           experiment_directory_suffix,\n",
    "           \"resume_training\",\n",
    "           params_initialization_for_resume_training=params_initialization_for_resume_training)"
   ]
  },
  {
   "cell_type": "code",
   "execution_count": null,
   "metadata": {
    "collapsed": true
   },
   "outputs": [],
   "source": [
    "params, filenames_of_resume_training_images, labels_of_resume_training_images = initialize_params_for_resuming_training_from_checkpoint()\n",
    "if params != None and filenames_of_resume_training_images != None and labels_of_resume_training_images != None:\n",
    "    pac.run_training_with_feed_dictionary(params, \"/gpu:0\", filenames_of_resume_training_images, labels_of_resume_training_images)"
   ]
  },
  {
   "cell_type": "code",
   "execution_count": null,
   "metadata": {
    "collapsed": true
   },
   "outputs": [],
   "source": []
  },
  {
   "cell_type": "code",
   "execution_count": 5,
   "metadata": {
    "collapsed": true
   },
   "outputs": [],
   "source": [
    "def initialize_params_for_evaluation_from_checkpoint():\n",
    "    params_initialization_for_evaluation = {}\n",
    "    params_initialization_for_evaluation['evaluate_model'] = True\n",
    "    params_initialization_for_evaluation['resume_training'] = False\n",
    "    params_initialization_for_evaluation['stage_of_development'] = \"evaluation\"\n",
    "    params_initialization_for_evaluation['dev_path_zero_labeled'] = \"data/0/dev_filenames_06.txt\"\n",
    "    params_initialization_for_evaluation['dev_path_one_labeled'] = \"data/1/dev_filenames_06.txt\"\n",
    "    params_initialization_for_evaluation['data_dir'] = 'data'\n",
    "    params_initialization_for_evaluation['logs_dir'] = 'logs'\n",
    "    params_initialization_for_evaluation['max_steps'] = None\n",
    "    params_initialization_for_evaluation['num_epochs'] = 1\n",
    "    params_initialization_for_evaluation['batch_size'] = 32\n",
    "    return pac.initialize_params(experiment_directory_name,\n",
    "                                    experiment_directory_suffix,\n",
    "                                    \"evaluation\",\n",
    "                                    params_initialization_for_evaluation=params_initialization_for_evaluation)"
   ]
  },
  {
   "cell_type": "code",
   "execution_count": 6,
   "metadata": {
    "collapsed": false
   },
   "outputs": [
    {
     "name": "stdout",
     "output_type": "stream",
     "text": [
      "Reading model parameters from logs/0000000003_experiment_2018-01-14_14:15:56_hygiene_detector_for_sensor_06/translate.ckpt-50\n",
      "Done creating the model.\n",
      "36.019261837005615\n",
      "Accuracy For Current Batch: 0.71875 \n",
      "Accuracy For Current Batch: 0.75 \n",
      "Accuracy For Current Batch: 0.65625 \n",
      "Accuracy For Current Batch: 0.78125 \n",
      "Accuracy For Current Batch: 0.8125 \n",
      "Accuracy For Current Batch: 0.8125 \n",
      "Accuracy For Current Batch: 0.5625 \n",
      "Accuracy For Current Batch: 0.65625 \n",
      "Accuracy For Current Batch: 0.6875 \n",
      "Accuracy For Current Batch: 0.71875 \n",
      "Accuracy For Current Batch: 0.625 \n",
      "Accuracy For Current Batch: 0.75 \n",
      "Accuracy For Current Batch: 0.75 \n",
      "Accuracy For Current Batch: 0.75 \n",
      "Accuracy For Current Batch: 0.6875 \n",
      "Accuracy For Current Batch: 0.75 \n",
      "Accuracy For Current Batch: 0.75 \n",
      "Accuracy For Current Batch: 0.6875 \n",
      "Accuracy For Current Batch: 0.8125 \n",
      "Accuracy For Current Batch: 0.59375 \n",
      "Accuracy For Current Batch: 0.8125 \n",
      "Accuracy For Current Batch: 0.875 \n",
      "Accuracy For Current Batch: 0.625 \n",
      "Accuracy For Current Batch: 0.53125 \n",
      "Accuracy For Current Batch: 0.6875 \n",
      "Accuracy For Current Batch: 0.78125 \n",
      "Accuracy For Current Batch: 0.78125 \n",
      "Accuracy For Current Batch: 0.8125 \n",
      "Accuracy For Current Batch: 0.71875 \n",
      "Average Accuracy Across Batches: 0.7219827586206896 \n"
     ]
    }
   ],
   "source": [
    "params, filenames_of_evaluation_images, labels_of_evaluation_images = initialize_params_for_evaluation_from_checkpoint()\n",
    "if params != None and filenames_of_evaluation_images != None and labels_of_evaluation_images != None:\n",
    "    pac.evaluate_model_with_feed_dictionary(params, \"/gpu:0\", filenames_of_evaluation_images, labels_of_evaluation_images)"
   ]
  },
  {
   "cell_type": "code",
   "execution_count": null,
   "metadata": {
    "collapsed": true
   },
   "outputs": [],
   "source": []
  }
 ],
 "metadata": {
  "kernelspec": {
   "display_name": "Python 3",
   "language": "python",
   "name": "python3"
  },
  "language_info": {
   "codemirror_mode": {
    "name": "ipython",
    "version": 3
   },
   "file_extension": ".py",
   "mimetype": "text/x-python",
   "name": "python",
   "nbconvert_exporter": "python",
   "pygments_lexer": "ipython3",
   "version": "3.5.2"
  }
 },
 "nbformat": 4,
 "nbformat_minor": 0
}
