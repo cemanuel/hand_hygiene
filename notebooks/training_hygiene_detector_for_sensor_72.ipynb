{
 "cells": [
  {
   "cell_type": "code",
   "execution_count": 1,
   "metadata": {
    "collapsed": false
   },
   "outputs": [],
   "source": [
    "import PAC_experiment_class as pac\n",
    "import os\n",
    "os.environ['TF_CPP_MIN_LOG_LEVEL'] = '3'\n",
    "import tensorflow as tf\n",
    "from tensorflow.python.client import timeline\n",
    "import time"
   ]
  },
  {
   "cell_type": "code",
   "execution_count": 2,
   "metadata": {
    "collapsed": true
   },
   "outputs": [],
   "source": [
    "experiment_directory_suffix = \"hygiene_detector_for_sensor_72\"\n",
    "experiment_directory_name = None"
   ]
  },
  {
   "cell_type": "code",
   "execution_count": 3,
   "metadata": {
    "collapsed": true
   },
   "outputs": [],
   "source": [
    "def initialize_params_for_experiment():\n",
    "    params_initialization_for_training = {}\n",
    "    params_initialization_for_training['training_path_zero_labeled'] = \"data/0/training_filenames_72.txt\"\n",
    "    params_initialization_for_training['training_path_one_labeled'] = \"data/1/training_filenames_72.txt\"\n",
    "    params_initialization_for_training['batch_size'] = 64\n",
    "    params_initialization_for_training['stage_of_development'] = \"training\"\n",
    "    params_initialization_for_training['learning_rate'] = 0.001\n",
    "    params_initialization_for_training['learning_rate_decay_factor'] = 0.99\n",
    "    params_initialization_for_training['max_steps'] = None\n",
    "    params_initialization_for_training['num_epochs'] = 1\n",
    "    return pac.initialize_params(experiment_directory_name,\n",
    "                          experiment_directory_suffix,\n",
    "                          \"training\",\n",
    "                          params_initialization_for_training=params_initialization_for_training)"
   ]
  },
  {
   "cell_type": "code",
   "execution_count": 4,
   "metadata": {
    "collapsed": false
   },
   "outputs": [
    {
     "name": "stdout",
     "output_type": "stream",
     "text": [
      "Created model with fresh parameters.\n",
      "Length of Time (in seconds) for preprocessing 274.36573100090027\n",
      "Batch Size of List of Filenames 64\n",
      "Batch Size of List of Label Images 64\n",
      "global step 1 learning rate 0.0010 step-time 9.83 loss 0.70\n",
      "Batch Size of List of Filenames 64\n",
      "Batch Size of List of Label Images 64\n",
      "global step 2 learning rate 0.0010 step-time 10.36 loss 0.70\n",
      "Batch Size of List of Filenames 64\n",
      "Batch Size of List of Label Images 64\n",
      "global step 3 learning rate 0.0010 step-time 9.02 loss 0.71\n",
      "Batch Size of List of Filenames 64\n",
      "Batch Size of List of Label Images 64\n",
      "global step 4 learning rate 0.0010 step-time 9.12 loss 0.71\n",
      "Batch Size of List of Filenames 64\n",
      "Batch Size of List of Label Images 64\n",
      "global step 5 learning rate 0.0010 step-time 9.69 loss 0.70\n",
      "Batch Size of List of Filenames 64\n",
      "Batch Size of List of Label Images 64\n",
      "global step 6 learning rate 0.0010 step-time 9.40 loss 0.70\n",
      "Batch Size of List of Filenames 64\n",
      "Batch Size of List of Label Images 64\n",
      "global step 7 learning rate 0.0010 step-time 8.86 loss 0.69\n",
      "Batch Size of List of Filenames 64\n",
      "Batch Size of List of Label Images 64\n",
      "global step 8 learning rate 0.0010 step-time 11.47 loss 0.70\n",
      "Batch Size of List of Filenames 64\n",
      "Batch Size of List of Label Images 64\n",
      "global step 9 learning rate 0.0010 step-time 9.59 loss 0.70\n",
      "Batch Size of List of Filenames 64\n",
      "Batch Size of List of Label Images 64\n",
      "global step 10 learning rate 0.0010 step-time 8.96 loss 0.70\n",
      "Batch Size of List of Filenames 64\n",
      "Batch Size of List of Label Images 64\n",
      "global step 11 learning rate 0.0010 step-time 9.04 loss 0.70\n",
      "Batch Size of List of Filenames 64\n",
      "Batch Size of List of Label Images 64\n",
      "global step 12 learning rate 0.0010 step-time 9.09 loss 0.70\n",
      "Batch Size of List of Filenames 64\n",
      "Batch Size of List of Label Images 64\n",
      "global step 13 learning rate 0.0010 step-time 6.33 loss 0.70\n",
      "Batch Size of List of Filenames 64\n",
      "Batch Size of List of Label Images 64\n",
      "global step 14 learning rate 0.0010 step-time 5.96 loss 0.68\n",
      "Batch Size of List of Filenames 64\n",
      "Batch Size of List of Label Images 64\n",
      "global step 15 learning rate 0.0010 step-time 6.15 loss 0.70\n",
      "Batch Size of List of Filenames 64\n",
      "Batch Size of List of Label Images 64\n",
      "global step 16 learning rate 0.0010 step-time 6.36 loss 0.69\n",
      "Batch Size of List of Filenames 64\n",
      "Batch Size of List of Label Images 64\n",
      "global step 17 learning rate 0.0010 step-time 6.35 loss 0.68\n",
      "Batch Size of List of Filenames 64\n",
      "Batch Size of List of Label Images 64\n",
      "global step 18 learning rate 0.0010 step-time 6.34 loss 0.69\n",
      "Batch Size of List of Filenames 64\n",
      "Batch Size of List of Label Images 64\n",
      "global step 19 learning rate 0.0010 step-time 6.40 loss 0.68\n",
      "Batch Size of List of Filenames 64\n",
      "Batch Size of List of Label Images 64\n",
      "global step 20 learning rate 0.0010 step-time 6.34 loss 0.69\n",
      "Batch Size of List of Filenames 64\n",
      "Batch Size of List of Label Images 64\n",
      "global step 21 learning rate 0.0010 step-time 6.40 loss 0.69\n",
      "Batch Size of List of Filenames 64\n",
      "Batch Size of List of Label Images 64\n",
      "global step 22 learning rate 0.0010 step-time 6.65 loss 0.69\n",
      "Batch Size of List of Filenames 64\n",
      "Batch Size of List of Label Images 64\n",
      "global step 23 learning rate 0.0010 step-time 6.72 loss 0.67\n",
      "Batch Size of List of Filenames 64\n",
      "Batch Size of List of Label Images 64\n",
      "global step 24 learning rate 0.0010 step-time 7.34 loss 0.66\n",
      "Batch Size of List of Filenames 64\n",
      "Batch Size of List of Label Images 64\n",
      "global step 25 learning rate 0.0010 step-time 7.21 loss 0.68\n",
      "Batch Size of List of Filenames 64\n",
      "Batch Size of List of Label Images 64\n",
      "global step 26 learning rate 0.0010 step-time 7.38 loss 0.68\n",
      "Batch Size of List of Filenames 64\n",
      "Batch Size of List of Label Images 64\n",
      "global step 27 learning rate 0.0010 step-time 6.86 loss 0.69\n",
      "Batch Size of List of Filenames 64\n",
      "Batch Size of List of Label Images 64\n",
      "global step 28 learning rate 0.0010 step-time 7.29 loss 0.68\n",
      "Batch Size of List of Filenames 64\n",
      "Batch Size of List of Label Images 64\n",
      "global step 29 learning rate 0.0010 step-time 7.26 loss 0.67\n",
      "Batch Size of List of Filenames 64\n",
      "Batch Size of List of Label Images 64\n",
      "global step 30 learning rate 0.0010 step-time 8.10 loss 0.68\n",
      "Batch Size of List of Filenames 64\n",
      "Batch Size of List of Label Images 64\n",
      "global step 31 learning rate 0.0010 step-time 7.35 loss 0.68\n",
      "Batch Size of List of Filenames 64\n",
      "Batch Size of List of Label Images 64\n",
      "global step 32 learning rate 0.0009 step-time 7.42 loss 0.69\n",
      "Batch Size of List of Filenames 64\n",
      "Batch Size of List of Label Images 64\n",
      "global step 33 learning rate 0.0009 step-time 5.20 loss 0.69\n",
      "Batch Size of List of Filenames 64\n",
      "Batch Size of List of Label Images 64\n",
      "global step 34 learning rate 0.0009 step-time 5.11 loss 0.68\n",
      "Batch Size of List of Filenames 64\n",
      "Batch Size of List of Label Images 64\n",
      "global step 35 learning rate 0.0009 step-time 4.98 loss 0.68\n",
      "Batch Size of List of Filenames 64\n",
      "Batch Size of List of Label Images 64\n",
      "global step 36 learning rate 0.0009 step-time 4.76 loss 0.67\n",
      "Batch Size of List of Filenames 64\n",
      "Batch Size of List of Label Images 64\n",
      "global step 37 learning rate 0.0009 step-time 5.01 loss 0.67\n",
      "Batch Size of List of Filenames 64\n",
      "Batch Size of List of Label Images 64\n",
      "global step 38 learning rate 0.0009 step-time 5.77 loss 0.67\n",
      "Batch Size of List of Filenames 64\n",
      "Batch Size of List of Label Images 64\n",
      "global step 39 learning rate 0.0009 step-time 8.77 loss 0.67\n",
      "Batch Size of List of Filenames 64\n",
      "Batch Size of List of Label Images 64\n",
      "global step 40 learning rate 0.0009 step-time 6.63 loss 0.67\n",
      "Batch Size of List of Filenames 64\n",
      "Batch Size of List of Label Images 64\n",
      "global step 41 learning rate 0.0009 step-time 8.34 loss 0.66\n",
      "Batch Size of List of Filenames 64\n",
      "Batch Size of List of Label Images 64\n",
      "global step 42 learning rate 0.0009 step-time 8.19 loss 0.67\n",
      "Batch Size of List of Filenames 64\n",
      "Batch Size of List of Label Images 64\n",
      "global step 43 learning rate 0.0009 step-time 4.57 loss 0.68\n",
      "Batch Size of List of Filenames 64\n",
      "Batch Size of List of Label Images 64\n",
      "global step 44 learning rate 0.0009 step-time 3.91 loss 0.68\n",
      "Batch Size of List of Filenames 64\n",
      "Batch Size of List of Label Images 64\n",
      "global step 45 learning rate 0.0009 step-time 4.01 loss 0.67\n",
      "Batch Size of List of Filenames 64\n",
      "Batch Size of List of Label Images 64\n",
      "global step 46 learning rate 0.0009 step-time 3.91 loss 0.69\n",
      "Batch Size of List of Filenames 64\n",
      "Batch Size of List of Label Images 64\n",
      "global step 47 learning rate 0.0009 step-time 4.24 loss 0.70\n",
      "Batch Size of List of Filenames 64\n",
      "Batch Size of List of Label Images 64\n",
      "global step 48 learning rate 0.0009 step-time 3.82 loss 0.67\n",
      "Batch Size of List of Filenames 64\n",
      "Batch Size of List of Label Images 64\n",
      "global step 49 learning rate 0.0009 step-time 3.76 loss 0.68\n",
      "Batch Size of List of Filenames 64\n",
      "Batch Size of List of Label Images 64\n",
      "global step 50 learning rate 0.0009 step-time 3.56 loss 0.68\n",
      "Batch Size of List of Filenames 64\n",
      "Batch Size of List of Label Images 64\n",
      "global step 51 learning rate 0.0009 step-time 3.75 loss 0.67\n",
      "Batch Size of List of Filenames 64\n",
      "Batch Size of List of Label Images 64\n",
      "global step 52 learning rate 0.0009 step-time 3.68 loss 0.68\n",
      "Batch Size of List of Filenames 64\n",
      "Batch Size of List of Label Images 64\n",
      "global step 53 learning rate 0.0009 step-time 3.81 loss 0.67\n",
      "Batch Size of List of Filenames 64\n",
      "Batch Size of List of Label Images 64\n",
      "global step 54 learning rate 0.0009 step-time 3.74 loss 0.68\n",
      "Batch Size of List of Filenames 64\n",
      "Batch Size of List of Label Images 64\n",
      "global step 55 learning rate 0.0009 step-time 3.74 loss 0.68\n",
      "Batch Size of List of Filenames 64\n",
      "Batch Size of List of Label Images 64\n",
      "global step 56 learning rate 0.0009 step-time 3.59 loss 0.67\n",
      "Batch Size of List of Filenames 64\n",
      "Batch Size of List of Label Images 64\n",
      "global step 57 learning rate 0.0009 step-time 3.61 loss 0.68\n",
      "Batch Size of List of Filenames 64\n",
      "Batch Size of List of Label Images 64\n",
      "global step 58 learning rate 0.0009 step-time 3.75 loss 0.67\n",
      "Batch Size of List of Filenames 64\n",
      "Batch Size of List of Label Images 64\n",
      "global step 59 learning rate 0.0009 step-time 3.69 loss 0.68\n",
      "Batch Size of List of Filenames 64\n",
      "Batch Size of List of Label Images 64\n",
      "global step 60 learning rate 0.0009 step-time 3.66 loss 0.65\n",
      "Batch Size of List of Filenames 64\n",
      "Batch Size of List of Label Images 64\n",
      "global step 61 learning rate 0.0009 step-time 3.84 loss 0.68\n",
      "Batch Size of List of Filenames 64\n",
      "Batch Size of List of Label Images 64\n",
      "global step 62 learning rate 0.0008 step-time 3.80 loss 0.65\n",
      "Batch Size of List of Filenames 64\n",
      "Batch Size of List of Label Images 64\n",
      "global step 63 learning rate 0.0008 step-time 3.79 loss 0.68\n",
      "Batch Size of List of Filenames 64\n",
      "Batch Size of List of Label Images 64\n",
      "global step 64 learning rate 0.0008 step-time 4.22 loss 0.68\n",
      "Batch Size of List of Filenames 64\n",
      "Batch Size of List of Label Images 64\n",
      "global step 65 learning rate 0.0008 step-time 3.73 loss 0.66\n",
      "Batch Size of List of Filenames 64\n",
      "Batch Size of List of Label Images 64\n",
      "global step 66 learning rate 0.0008 step-time 3.85 loss 0.66\n",
      "Batch Size of List of Filenames 64\n",
      "Batch Size of List of Label Images 64\n",
      "global step 67 learning rate 0.0008 step-time 3.78 loss 0.67\n",
      "Batch Size of List of Filenames 64\n",
      "Batch Size of List of Label Images 64\n",
      "global step 68 learning rate 0.0008 step-time 3.64 loss 0.67\n",
      "Batch Size of List of Filenames 64\n",
      "Batch Size of List of Label Images 64\n",
      "global step 69 learning rate 0.0008 step-time 3.75 loss 0.69\n",
      "Batch Size of List of Filenames 64\n",
      "Batch Size of List of Label Images 64\n",
      "global step 70 learning rate 0.0008 step-time 3.85 loss 0.67\n",
      "Batch Size of List of Filenames 64\n",
      "Batch Size of List of Label Images 64\n",
      "global step 71 learning rate 0.0008 step-time 3.71 loss 0.67\n",
      "Batch Size of List of Filenames 64\n",
      "Batch Size of List of Label Images 64\n",
      "global step 72 learning rate 0.0008 step-time 3.74 loss 0.67\n",
      "Batch Size of List of Filenames 64\n",
      "Batch Size of List of Label Images 64\n",
      "global step 73 learning rate 0.0008 step-time 3.74 loss 0.67\n",
      "Batch Size of List of Filenames 64\n",
      "Batch Size of List of Label Images 64\n",
      "global step 74 learning rate 0.0008 step-time 3.69 loss 0.67\n",
      "Batch Size of List of Filenames 64\n",
      "Batch Size of List of Label Images 64\n",
      "global step 75 learning rate 0.0008 step-time 3.72 loss 0.65\n",
      "Batch Size of List of Filenames 64\n",
      "Batch Size of List of Label Images 64\n",
      "global step 76 learning rate 0.0008 step-time 3.63 loss 0.66\n",
      "Batch Size of List of Filenames 64\n",
      "Batch Size of List of Label Images 64\n",
      "global step 77 learning rate 0.0008 step-time 3.72 loss 0.67\n",
      "Batch Size of List of Filenames 64\n",
      "Batch Size of List of Label Images 64\n",
      "global step 78 learning rate 0.0008 step-time 3.75 loss 0.65\n",
      "Batch Size of List of Filenames 64\n",
      "Batch Size of List of Label Images 64\n",
      "global step 79 learning rate 0.0008 step-time 3.76 loss 0.65\n",
      "Batch Size of List of Filenames 64\n",
      "Batch Size of List of Label Images 64\n",
      "global step 80 learning rate 0.0008 step-time 3.70 loss 0.67\n",
      "Batch Size of List of Filenames 64\n",
      "Batch Size of List of Label Images 64\n",
      "global step 81 learning rate 0.0008 step-time 3.71 loss 0.66\n",
      "Batch Size of List of Filenames 64\n",
      "Batch Size of List of Label Images 64\n",
      "global step 82 learning rate 0.0008 step-time 3.61 loss 0.66\n",
      "Batch Size of List of Filenames 64\n",
      "Batch Size of List of Label Images 64\n",
      "global step 83 learning rate 0.0008 step-time 3.73 loss 0.67\n",
      "Batch Size of List of Filenames 64\n",
      "Batch Size of List of Label Images 64\n",
      "global step 84 learning rate 0.0008 step-time 3.88 loss 0.68\n",
      "Batch Size of List of Filenames 64\n",
      "Batch Size of List of Label Images 64\n",
      "global step 85 learning rate 0.0008 step-time 3.81 loss 0.68\n",
      "Batch Size of List of Filenames 64\n",
      "Batch Size of List of Label Images 64\n",
      "global step 86 learning rate 0.0008 step-time 3.86 loss 0.66\n",
      "Batch Size of List of Filenames 64\n",
      "Batch Size of List of Label Images 64\n",
      "global step 87 learning rate 0.0008 step-time 3.93 loss 0.65\n",
      "Batch Size of List of Filenames 64\n",
      "Batch Size of List of Label Images 64\n",
      "global step 88 learning rate 0.0008 step-time 3.65 loss 0.67\n",
      "Batch Size of List of Filenames 64\n",
      "Batch Size of List of Label Images 64\n",
      "global step 89 learning rate 0.0008 step-time 3.72 loss 0.66\n",
      "Batch Size of List of Filenames 64\n",
      "Batch Size of List of Label Images 64\n",
      "global step 90 learning rate 0.0008 step-time 3.72 loss 0.65\n",
      "Batch Size of List of Filenames 64\n",
      "Batch Size of List of Label Images 64\n",
      "global step 91 learning rate 0.0008 step-time 3.73 loss 0.65\n",
      "Batch Size of List of Filenames 64\n",
      "Batch Size of List of Label Images 64\n",
      "global step 92 learning rate 0.0008 step-time 3.72 loss 0.66\n",
      "Batch Size of List of Filenames 64\n",
      "Batch Size of List of Label Images 64\n",
      "global step 93 learning rate 0.0008 step-time 3.69 loss 0.68\n",
      "Batch Size of List of Filenames 64\n",
      "Batch Size of List of Label Images 64\n",
      "global step 94 learning rate 0.0008 step-time 3.65 loss 0.67\n",
      "Batch Size of List of LAST Filenames 64\n",
      "Batch Size of List of LAST Label Images 64\n",
      "global step 95 learning rate 0.0008 step-time 3.74 loss 0.66\n"
     ]
    }
   ],
   "source": [
    "params, filenames_of_training_images, labels_of_training_images = initialize_params_for_experiment()\n",
    "pac.run_training_with_feed_dictionary(params, \"/gpu:0\", filenames_of_training_images, labels_of_training_images)"
   ]
  },
  {
   "cell_type": "code",
   "execution_count": null,
   "metadata": {
    "collapsed": true
   },
   "outputs": [],
   "source": []
  },
  {
   "cell_type": "code",
   "execution_count": null,
   "metadata": {
    "collapsed": true
   },
   "outputs": [],
   "source": [
    "def initialize_params_for_resuming_training_from_checkpoint():\n",
    "    params_initialization_for_resume_training = {}\n",
    "    params_initialization_for_resume_training['resume_training'] = True\n",
    "    params_initialization_for_resume_training['training_path_zero_labeled'] = \"data/0/training_filenames_72.txt\"\n",
    "    params_initialization_for_resume_training['training_path_one_labeled'] = \"data/1/training_filenames_72.txt\"\n",
    "    params_initialization_for_resume_training['data_dir'] = 'data'\n",
    "    params_initialization_for_resume_training['logs_dir'] = 'logs'\n",
    "    params_initialization_for_resume_training['max_steps'] = 4\n",
    "    params_initialization_for_resume_training['num_epochs'] = 1\n",
    "    params_initialization_for_resume_training['batch_size'] = 32\n",
    "    return pac.initialize_params(experiment_directory_name,\n",
    "           experiment_directory_suffix,\n",
    "           \"resume_training\",\n",
    "           params_initialization_for_resume_training=params_initialization_for_resume_training)"
   ]
  },
  {
   "cell_type": "code",
   "execution_count": null,
   "metadata": {
    "collapsed": true
   },
   "outputs": [],
   "source": [
    "params, filenames_of_resume_training_images, labels_of_resume_training_images = initialize_params_for_resuming_training_from_checkpoint()\n",
    "pac.run_training_with_feed_dictionary(params, \"/gpu:0\", filenames_of_resume_training_images, labels_of_resume_training_images)"
   ]
  },
  {
   "cell_type": "code",
   "execution_count": null,
   "metadata": {
    "collapsed": true
   },
   "outputs": [],
   "source": []
  },
  {
   "cell_type": "code",
   "execution_count": 4,
   "metadata": {
    "collapsed": true
   },
   "outputs": [],
   "source": [
    "def initialize_params_for_evaluation_from_checkpoint():\n",
    "    params_initialization_for_evaluation = {}\n",
    "    params_initialization_for_evaluation['evaluate_model'] = True\n",
    "    params_initialization_for_evaluation['resume_training'] = False\n",
    "    params_initialization_for_evaluation['stage_of_development'] = \"evaluation\"\n",
    "    params_initialization_for_evaluation['dev_path_zero_labeled'] = \"data/0/dev_filenames_72.txt\"\n",
    "    params_initialization_for_evaluation['dev_path_one_labeled'] = \"data/1/dev_filenames_72.txt\"\n",
    "    params_initialization_for_evaluation['data_dir'] = 'data'\n",
    "    params_initialization_for_evaluation['logs_dir'] = 'logs'\n",
    "    params_initialization_for_evaluation['max_steps'] = None\n",
    "    params_initialization_for_evaluation['num_epochs'] = 1\n",
    "    params_initialization_for_evaluation['batch_size'] = 32\n",
    "    params_initialization_for_evaluation['use_preprocessing'] = True\n",
    "    return pac.initialize_params(experiment_directory_name,\n",
    "                                    experiment_directory_suffix,\n",
    "                                    \"evaluation\",\n",
    "                                    params_initialization_for_evaluation=params_initialization_for_evaluation)"
   ]
  },
  {
   "cell_type": "code",
   "execution_count": 5,
   "metadata": {
    "collapsed": false
   },
   "outputs": [
    {
     "name": "stdout",
     "output_type": "stream",
     "text": [
      "Reading model parameters from logs/0000000017_experiment_2018-01-14_20:10:49_hygiene_detector_for_sensor_72/translate.ckpt-95\n",
      "Done creating the model.\n",
      "True\n",
      "Length of Time (in seconds) for preprocessing 31.207420825958252\n",
      "Accuracy For Current Batch: 0.6875 \n",
      "Accuracy For Current Batch: 0.6875 \n",
      "Accuracy For Current Batch: 0.65625 \n",
      "Accuracy For Current Batch: 0.65625 \n",
      "Accuracy For Current Batch: 0.65625 \n",
      "Accuracy For Current Batch: 0.59375 \n",
      "Accuracy For Current Batch: 0.78125 \n",
      "Accuracy For Current Batch: 0.59375 \n",
      "Accuracy For Current Batch: 0.75 \n",
      "Accuracy For Current Batch: 0.59375 \n",
      "Accuracy For Current Batch: 0.59375 \n",
      "Accuracy For Current Batch: 0.59375 \n",
      "Accuracy For Current Batch: 0.5625 \n",
      "Accuracy For Current Batch: 0.71875 \n",
      "Accuracy For Current Batch: 0.6875 \n",
      "Accuracy For Current Batch: 0.75 \n",
      "Accuracy For Current Batch: 0.625 \n",
      "Accuracy For Current Batch: 0.75 \n",
      "Accuracy For Current Batch: 0.4375 \n",
      "Accuracy For Current Batch: 0.6875 \n",
      "Accuracy For Current Batch: 0.65625 \n",
      "Accuracy For Current Batch: 0.5625 \n",
      "Accuracy For Current Batch: 0.65625 \n",
      "Accuracy For Current Batch: 0.625 \n",
      "Accuracy For Current Batch: 0.6875 \n",
      "Accuracy For Current Batch: 0.59375 \n",
      "Accuracy For Current Batch: 0.65625 \n",
      "Accuracy For Current Batch: 0.625 \n",
      "Accuracy For Current Batch: 0.65625 \n",
      "Accuracy For Current Batch: 0.625 \n",
      "Accuracy For Current Batch: 0.71875 \n",
      "Accuracy For Current Batch: 0.625 \n",
      "Accuracy For Current Batch: 0.625 \n",
      "Accuracy For Current Batch: 0.65625 \n",
      "Accuracy For Current Batch: 0.5625 \n",
      "Accuracy For Current Batch: 0.71875 \n",
      "Accuracy For Current Batch: 0.625 \n",
      "Accuracy For Current Batch: 0.78125 \n",
      "Accuracy For Current Batch: 0.6875 \n",
      "Accuracy For Current Batch: 0.6875 \n",
      "Accuracy For Current Batch: 0.625 \n",
      "Accuracy For Current Batch: 0.75 \n",
      "Accuracy For Current Batch: 0.625 \n",
      "Accuracy For Current Batch: 0.71875 \n",
      "Accuracy For Current Batch: 0.625 \n",
      "Accuracy For Current Batch: 0.65625 \n",
      "Accuracy For Current Batch: 0.59375 \n",
      "Accuracy For Current Batch: 0.5625 \n",
      "Accuracy For Current Batch: 0.625 \n",
      "Accuracy For Current Batch: 0.59375 \n",
      "Accuracy For Current Batch: 0.5 \n",
      "Accuracy For Current Batch: 0.6875 \n",
      "Accuracy For Current Batch: 0.59375 \n",
      "Accuracy For Current Batch: 0.6875 \n",
      "Accuracy For Current Batch: 0.65625 \n",
      "Average Accuracy Across Batches: 0.647159090909091 \n"
     ]
    }
   ],
   "source": [
    "params, filenames_of_evaluation_images, labels_of_evaluation_images = initialize_params_for_evaluation_from_checkpoint()\n",
    "filenames_of_correctly_labeled_images, filenames_of_incorrectly_labeled_images = pac.evaluate_model_with_feed_dictionary(params, \"/gpu:0\", filenames_of_evaluation_images, labels_of_evaluation_images)"
   ]
  },
  {
   "cell_type": "code",
   "execution_count": 6,
   "metadata": {
    "collapsed": false
   },
   "outputs": [
    {
     "name": "stdout",
     "output_type": "stream",
     "text": [
      "1139\n"
     ]
    }
   ],
   "source": [
    "print(len(filenames_of_correctly_labeled_images))"
   ]
  },
  {
   "cell_type": "code",
   "execution_count": 7,
   "metadata": {
    "collapsed": false
   },
   "outputs": [
    {
     "name": "stdout",
     "output_type": "stream",
     "text": [
      "621\n"
     ]
    }
   ],
   "source": [
    "print(len(filenames_of_incorrectly_labeled_images))"
   ]
  },
  {
   "cell_type": "code",
   "execution_count": 9,
   "metadata": {
    "collapsed": false
   },
   "outputs": [
    {
     "data": {
      "text/plain": [
       "<matplotlib.image.AxesImage at 0x12ba26f98>"
      ]
     },
     "execution_count": 9,
     "metadata": {},
     "output_type": "execute_result"
    },
    {
     "data": {
      "image/png": "[encoded data removed]",
      "text/plain": [
       "<matplotlib.figure.Figure at 0x10f7a4ef0>"
      ]
     },
     "metadata": {},
     "output_type": "display_data"
    }
   ],
   "source": [
    "%matplotlib inline\n",
    "import matplotlib.pyplot as plt\n",
    "import numpy as np\n",
    "import cv2\n",
    "import os\n",
    "import re\n",
    "from os.path import isfile\n",
    "\n",
    "plt.imshow(filenames_of_incorrectly_labeled_images[0], cmap=plt.cm.gray)"
   ]
  },
  {
   "cell_type": "code",
   "execution_count": 21,
   "metadata": {
    "collapsed": false
   },
   "outputs": [
    {
     "data": {
      "text/plain": [
       "<matplotlib.image.AxesImage at 0x12cf4bb38>"
      ]
     },
     "execution_count": 21,
     "metadata": {},
     "output_type": "execute_result"
    },
    {
     "data": {
      "image/png": "[encoded data removed]",
      "text/plain": [
       "<matplotlib.figure.Figure at 0x12cbf7208>"
      ]
     },
     "metadata": {},
     "output_type": "display_data"
    }
   ],
   "source": [
    "temp0 = np.copy(filenames_of_incorrectly_labeled_images[1])\n",
    "temp0[filenames_of_incorrectly_labeled_images[1] == 0] = np.amax(filenames_of_incorrectly_labeled_images[1])\n",
    "plt.imshow(temp0 , cmap=plt.cm.gray)"
   ]
  },
  {
   "cell_type": "code",
   "execution_count": 20,
   "metadata": {
    "collapsed": false
   },
   "outputs": [
    {
     "data": {
      "text/plain": [
       "<matplotlib.image.AxesImage at 0x12cbe9320>"
      ]
     },
     "execution_count": 20,
     "metadata": {},
     "output_type": "execute_result"
    },
    {
     "data": {
      "image/png": "[encoded data removed]",
      "text/plain": [
       "<matplotlib.figure.Figure at 0x10fa52cf8>"
      ]
     },
     "metadata": {},
     "output_type": "display_data"
    }
   ],
   "source": [
    "temp1 = np.copy(filenames_of_incorrectly_labeled_images[2])\n",
    "temp1[filenames_of_incorrectly_labeled_images[2] == 0] = np.amax(filenames_of_incorrectly_labeled_images[2])\n",
    "plt.imshow(temp1 , cmap=plt.cm.gray)"
   ]
  },
  {
   "cell_type": "code",
   "execution_count": 12,
   "metadata": {
    "collapsed": false
   },
   "outputs": [
    {
     "data": {
      "text/plain": [
       "<matplotlib.image.AxesImage at 0x12c202978>"
      ]
     },
     "execution_count": 12,
     "metadata": {},
     "output_type": "execute_result"
    },
    {
     "data": {
      "image/png": "[encoded data removed]",
      "text/plain": [
       "<matplotlib.figure.Figure at 0x12bf01ba8>"
      ]
     },
     "metadata": {},
     "output_type": "display_data"
    }
   ],
   "source": [
    "plt.imshow(filenames_of_correctly_labeled_images[0], cmap=plt.cm.gray)"
   ]
  },
  {
   "cell_type": "code",
   "execution_count": 13,
   "metadata": {
    "collapsed": false
   },
   "outputs": [
    {
     "data": {
      "text/plain": [
       "<matplotlib.image.AxesImage at 0x12c2f02b0>"
      ]
     },
     "execution_count": 13,
     "metadata": {},
     "output_type": "execute_result"
    },
    {
     "data": {
      "image/png": "[encoded data removed]",
      "text/plain": [
       "<matplotlib.figure.Figure at 0x12c2178d0>"
      ]
     },
     "metadata": {},
     "output_type": "display_data"
    }
   ],
   "source": [
    "plt.imshow(filenames_of_correctly_labeled_images[1], cmap=plt.cm.gray)"
   ]
  },
  {
   "cell_type": "code",
   "execution_count": 14,
   "metadata": {
    "collapsed": false
   },
   "outputs": [
    {
     "data": {
      "text/plain": [
       "<matplotlib.image.AxesImage at 0x12c60ba90>"
      ]
     },
     "execution_count": 14,
     "metadata": {},
     "output_type": "execute_result"
    },
    {
     "data": {
      "image/png": "[encoded data removed]",
      "text/plain": [
       "<matplotlib.figure.Figure at 0x12c5057b8>"
      ]
     },
     "metadata": {},
     "output_type": "display_data"
    }
   ],
   "source": [
    "plt.imshow(filenames_of_correctly_labeled_images[2], cmap=plt.cm.gray)"
   ]
  },
  {
   "cell_type": "code",
   "execution_count": 15,
   "metadata": {
    "collapsed": false
   },
   "outputs": [
    {
     "data": {
      "text/plain": [
       "<matplotlib.image.AxesImage at 0x10f7a6c50>"
      ]
     },
     "execution_count": 15,
     "metadata": {},
     "output_type": "execute_result"
    },
    {
     "data": {
      "image/png": "[encoded data removed]",
      "text/plain": [
       "<matplotlib.figure.Figure at 0x12c6324e0>"
      ]
     },
     "metadata": {},
     "output_type": "display_data"
    }
   ],
   "source": [
    "plt.imshow(filenames_of_correctly_labeled_images[3], cmap=plt.cm.gray)"
   ]
  },
  {
   "cell_type": "code",
   "execution_count": 22,
   "metadata": {
    "collapsed": false
   },
   "outputs": [
    {
     "data": {
      "text/plain": [
       "<matplotlib.image.AxesImage at 0x12d1ae438>"
      ]
     },
     "execution_count": 22,
     "metadata": {},
     "output_type": "execute_result"
    },
    {
     "data": {
      "image/png": "[encoded data removed]",
      "text/plain": [
       "<matplotlib.figure.Figure at 0x12d0d0e48>"
      ]
     },
     "metadata": {},
     "output_type": "display_data"
    }
   ],
   "source": [
    "temp4 = np.copy(filenames_of_correctly_labeled_images[4])\n",
    "temp4[filenames_of_correctly_labeled_images[4] == 0] = np.amax(filenames_of_correctly_labeled_images[4])\n",
    "plt.imshow(temp4 , cmap=plt.cm.gray)"
   ]
  },
  {
   "cell_type": "code",
   "execution_count": 17,
   "metadata": {
    "collapsed": false
   },
   "outputs": [
    {
     "data": {
      "text/plain": [
       "<matplotlib.image.AxesImage at 0x10fa014a8>"
      ]
     },
     "execution_count": 17,
     "metadata": {},
     "output_type": "execute_result"
    },
    {
     "data": {
      "image/png": "[encoded data removed]",
      "text/plain": [
       "<matplotlib.figure.Figure at 0x10fa99518>"
      ]
     },
     "metadata": {},
     "output_type": "display_data"
    }
   ],
   "source": [
    " plt.imshow(filenames_of_correctly_labeled_images[5], cmap=plt.cm.gray)"
   ]
  },
  {
   "cell_type": "code",
   "execution_count": 18,
   "metadata": {
    "collapsed": false
   },
   "outputs": [
    {
     "data": {
      "text/plain": [
       "<matplotlib.image.AxesImage at 0x12c6f9dd8>"
      ]
     },
     "execution_count": 18,
     "metadata": {},
     "output_type": "execute_result"
    },
    {
     "data": {
      "image/png": "[encoded data removed]",
      "text/plain": [
       "<matplotlib.figure.Figure at 0x10fa04b38>"
      ]
     },
     "metadata": {},
     "output_type": "display_data"
    }
   ],
   "source": [
    "plt.imshow(filenames_of_correctly_labeled_images[6], cmap=plt.cm.gray)"
   ]
  },
  {
   "cell_type": "code",
   "execution_count": 23,
   "metadata": {
    "collapsed": false
   },
   "outputs": [
    {
     "data": {
      "text/plain": [
       "<matplotlib.image.AxesImage at 0x12d2f5c50>"
      ]
     },
     "execution_count": 23,
     "metadata": {},
     "output_type": "execute_result"
    },
    {
     "data": {
      "image/png": "[encoded data removed]",
      "text/plain": [
       "<matplotlib.figure.Figure at 0x12d372208>"
      ]
     },
     "metadata": {},
     "output_type": "display_data"
    }
   ],
   "source": [
    "temp7 = np.copy(filenames_of_correctly_labeled_images[7])\n",
    "temp7[filenames_of_correctly_labeled_images[7] == 0] = np.amax(filenames_of_correctly_labeled_images[7])\n",
    "plt.imshow(temp7, cmap=plt.cm.gray)"
   ]
  },
  {
   "cell_type": "code",
   "execution_count": null,
   "metadata": {
    "collapsed": true
   },
   "outputs": [],
   "source": []
  }
 ],
 "metadata": {
  "kernelspec": {
   "display_name": "Python 3",
   "language": "python",
   "name": "python3"
  },
  "language_info": {
   "codemirror_mode": {
    "name": "ipython",
    "version": 3
   },
   "file_extension": ".py",
   "mimetype": "text/x-python",
   "name": "python",
   "nbconvert_exporter": "python",
   "pygments_lexer": "ipython3",
   "version": "3.5.2"
  }
 },
 "nbformat": 4,
 "nbformat_minor": 0
}
