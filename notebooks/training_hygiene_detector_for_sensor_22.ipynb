{
 "cells": [
  {
   "cell_type": "code",
   "execution_count": 1,
   "metadata": {
    "collapsed": true
   },
   "outputs": [],
   "source": [
    "import PAC_experiment_class as pac\n",
    "import os\n",
    "os.environ['TF_CPP_MIN_LOG_LEVEL'] = '3'\n",
    "import tensorflow as tf\n",
    "from tensorflow.python.client import timeline\n",
    "import time"
   ]
  },
  {
   "cell_type": "code",
   "execution_count": 2,
   "metadata": {
    "collapsed": true
   },
   "outputs": [],
   "source": [
    "experiment_directory_suffix = \"hygiene_detector_for_sensor_22\"\n",
    "experiment_directory_name = None"
   ]
  },
  {
   "cell_type": "code",
   "execution_count": 3,
   "metadata": {
    "collapsed": true
   },
   "outputs": [],
   "source": [
    "def initialize_params_for_experiment():\n",
    "    params_initialization_for_training = {}\n",
    "    params_initialization_for_training['training_path_zero_labeled'] = \"data/0/training_filenames_22.txt\"\n",
    "    params_initialization_for_training['training_path_one_labeled'] = \"data/1/training_filenames_22.txt\"\n",
    "    params_initialization_for_training['batch_size'] = 64\n",
    "    params_initialization_for_training['stage_of_development'] = \"training\"\n",
    "    params_initialization_for_training['learning_rate'] = 0.001\n",
    "    params_initialization_for_training['learning_rate_decay_factor'] = 0.99\n",
    "    params_initialization_for_training['max_steps'] = None\n",
    "    params_initialization_for_training['num_epochs'] = 1\n",
    "    return pac.initialize_params(experiment_directory_name,\n",
    "                          experiment_directory_suffix,\n",
    "                          \"training\",\n",
    "                          params_initialization_for_training=params_initialization_for_training)"
   ]
  },
  {
   "cell_type": "code",
   "execution_count": 4,
   "metadata": {
    "collapsed": false
   },
   "outputs": [
    {
     "name": "stdout",
     "output_type": "stream",
     "text": [
      "Created model with fresh parameters.\n",
      "Length of Time (in seconds) for preprocessing 0.4067111015319824\n",
      "Batch Size of List of Filenames 13\n",
      "Batch Size of List of Label Images 13\n",
      "global step 1 learning rate 0.0010 step-time 1.49 loss 0.32\n"
     ]
    }
   ],
   "source": [
    "params, filenames_of_training_images, labels_of_training_images = initialize_params_for_experiment()\n",
    "pac.run_training_with_feed_dictionary(params, \"/gpu:0\", filenames_of_training_images, labels_of_training_images)"
   ]
  },
  {
   "cell_type": "code",
   "execution_count": null,
   "metadata": {
    "collapsed": true
   },
   "outputs": [],
   "source": []
  },
  {
   "cell_type": "code",
   "execution_count": null,
   "metadata": {
    "collapsed": true
   },
   "outputs": [],
   "source": [
    "def initialize_params_for_resuming_training_from_checkpoint():\n",
    "    params_initialization_for_resume_training = {}\n",
    "    params_initialization_for_resume_training['resume_training'] = True\n",
    "    params_initialization_for_resume_training['training_path_zero_labeled'] = \"data/0/training_filenames_22.txt\"\n",
    "    params_initialization_for_resume_training['training_path_one_labeled'] = \"data/1/training_filenames_22.txt\"\n",
    "    params_initialization_for_resume_training['data_dir'] = 'data'\n",
    "    params_initialization_for_resume_training['logs_dir'] = 'logs'\n",
    "    params_initialization_for_resume_training['max_steps'] = 4\n",
    "    params_initialization_for_resume_training['num_epochs'] = 1\n",
    "    params_initialization_for_resume_training['batch_size'] = 32\n",
    "    return pac.initialize_params(experiment_directory_name,\n",
    "           experiment_directory_suffix,\n",
    "           \"resume_training\",\n",
    "           params_initialization_for_resume_training=params_initialization_for_resume_training)"
   ]
  },
  {
   "cell_type": "code",
   "execution_count": null,
   "metadata": {
    "collapsed": true
   },
   "outputs": [],
   "source": [
    "params, filenames_of_resume_training_images, labels_of_resume_training_images = initialize_params_for_resuming_training_from_checkpoint()\n",
    "pac.run_training_with_feed_dictionary(params, \"/gpu:0\", filenames_of_resume_training_images, labels_of_resume_training_images)"
   ]
  },
  {
   "cell_type": "code",
   "execution_count": null,
   "metadata": {
    "collapsed": true
   },
   "outputs": [],
   "source": []
  },
  {
   "cell_type": "code",
   "execution_count": 5,
   "metadata": {
    "collapsed": true
   },
   "outputs": [],
   "source": [
    "def initialize_params_for_evaluation_from_checkpoint():\n",
    "    params_initialization_for_evaluation = {}\n",
    "    params_initialization_for_evaluation['evaluate_model'] = True\n",
    "    params_initialization_for_evaluation['resume_training'] = False\n",
    "    params_initialization_for_evaluation['stage_of_development'] = \"evaluation\"\n",
    "    params_initialization_for_evaluation['dev_path_zero_labeled'] = \"data/0/dev_filenames_22.txt\"\n",
    "    params_initialization_for_evaluation['dev_path_one_labeled'] = \"data/1/dev_filenames_22.txt\"\n",
    "    params_initialization_for_evaluation['data_dir'] = 'data'\n",
    "    params_initialization_for_evaluation['logs_dir'] = 'logs'\n",
    "    params_initialization_for_evaluation['max_steps'] = None\n",
    "    params_initialization_for_evaluation['num_epochs'] = 1\n",
    "    params_initialization_for_evaluation['batch_size'] = 32\n",
    "    return pac.initialize_params(experiment_directory_name,\n",
    "                                    experiment_directory_suffix,\n",
    "                                    \"evaluation\",\n",
    "                                    params_initialization_for_evaluation=params_initialization_for_evaluation)"
   ]
  },
  {
   "cell_type": "code",
   "execution_count": 6,
   "metadata": {
    "collapsed": false
   },
   "outputs": [
    {
     "name": "stdout",
     "output_type": "stream",
     "text": [
      "Reading model parameters from logs/0000000009_experiment_2018-01-14_18:27:49_hygiene_detector_for_sensor_22/translate.ckpt-1\n",
      "Done creating the model.\n",
      "Length of Time (in seconds) for preprocessing 0.1921072006225586\n",
      "Accuracy For Current Batch: 1.0 \n",
      "Accuracy For Current Batch: 1.0 \n",
      "Average Accuracy Across Batches: 1.0 \n"
     ]
    }
   ],
   "source": [
    "params, filenames_of_evaluation_images, labels_of_evaluation_images = initialize_params_for_evaluation_from_checkpoint()\n",
    "pac.evaluate_model_with_feed_dictionary(params, \"/gpu:0\", filenames_of_evaluation_images, labels_of_evaluation_images)"
   ]
  },
  {
   "cell_type": "code",
   "execution_count": null,
   "metadata": {
    "collapsed": true
   },
   "outputs": [],
   "source": []
  }
 ],
 "metadata": {
  "kernelspec": {
   "display_name": "Python 3",
   "language": "python",
   "name": "python3"
  },
  "language_info": {
   "codemirror_mode": {
    "name": "ipython",
    "version": 3
   },
   "file_extension": ".py",
   "mimetype": "text/x-python",
   "name": "python",
   "nbconvert_exporter": "python",
   "pygments_lexer": "ipython3",
   "version": "3.5.2"
  }
 },
 "nbformat": 4,
 "nbformat_minor": 0
}
