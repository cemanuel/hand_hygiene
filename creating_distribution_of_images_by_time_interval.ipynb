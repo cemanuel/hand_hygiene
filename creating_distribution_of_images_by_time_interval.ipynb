{
 "cells": [
  {
   "cell_type": "code",
   "execution_count": 1,
   "metadata": {
    "collapsed": true
   },
   "outputs": [],
   "source": [
    "import re\n",
    "import os\n",
    "import numpy as np\n",
    "import math\n",
    "from __future__ import absolute_import\n",
    "from __future__ import division\n",
    "from __future__ import print_function\n",
    "\n",
    "import sys\n",
    "\n",
    "import gzip\n",
    "import os\n",
    "import re\n",
    "import tarfile\n",
    "\n",
    "from six.moves import urllib\n",
    "import numpy as np\n",
    "import math\n",
    "\n",
    "from tensorflow.python.platform import gfile\n",
    "import tensorflow as tf"
   ]
  },
  {
   "cell_type": "code",
   "execution_count": 2,
   "metadata": {
    "collapsed": true
   },
   "outputs": [],
   "source": [
    "pac_data_directory = \"pac_data\""
   ]
  },
  {
   "cell_type": "code",
   "execution_count": 3,
   "metadata": {
    "collapsed": true
   },
   "outputs": [],
   "source": [
    "potential_sensor_directories = os.listdir(pac_data_directory)\n",
    "sensor_directories = [sensor_dir for sensor_dir in potential_sensor_directories if os.path.isdir(pac_data_directory + \"/\" + sensor_dir)]"
   ]
  },
  {
   "cell_type": "code",
   "execution_count": 4,
   "metadata": {
    "collapsed": false
   },
   "outputs": [
    {
     "name": "stdout",
     "output_type": "stream",
     "text": [
      "['02', '04', '06', '08', '10', '11', '15', '21', '22', '23', '24', '39', '52', '59', '62', '63', '72']\n"
     ]
    }
   ],
   "source": [
    "print(sensor_directories)"
   ]
  },
  {
   "cell_type": "code",
   "execution_count": 5,
   "metadata": {
    "collapsed": true
   },
   "outputs": [],
   "source": [
    "sensor_directory_to_list_of_filenames_of_images_labeled_zero_dict = {}\n",
    "sensor_directory_to_list_of_filenames_of_images_labeled_one_dict = {}\n",
    "pattern = r\"\\d{8}_\\d{6}_\\d{3}.npz\"\n",
    "for sensor_dir in sensor_directories:\n",
    "    if os.path.isdir(pac_data_directory + \"/\" + sensor_dir + \"/0\"):\n",
    "        potential_filenames_of_images_labeled_with_zero = os.listdir(pac_data_directory + \"/\" + sensor_dir + \"/0\")\n",
    "        filenames_of_images_labeled_with_zero = [f for f in potential_filenames_of_images_labeled_with_zero if os.path.isfile(pac_data_directory + \"/\" + sensor_dir + \"/0/\" + f) and re.match(pattern, f)]\n",
    "        sensor_directory_to_list_of_filenames_of_images_labeled_zero_dict[sensor_dir] = filenames_of_images_labeled_with_zero\n",
    "    if os.path.isdir(pac_data_directory + \"/\" + sensor_dir + \"/1\"):\n",
    "        potential_filenames_of_images_labeled_with_one =  os.listdir(pac_data_directory + \"/\" + sensor_dir + \"/1\")\n",
    "        filenames_of_images_labeled_with_one = [f for f in potential_filenames_of_images_labeled_with_one if os.path.isfile(pac_data_directory + \"/\" + sensor_dir + \"/1/\" + f) and re.match(pattern, f)]\n",
    "        sensor_directory_to_list_of_filenames_of_images_labeled_one_dict[sensor_dir] = filenames_of_images_labeled_with_one"
   ]
  },
  {
   "cell_type": "code",
   "execution_count": 6,
   "metadata": {
    "collapsed": false
   },
   "outputs": [
    {
     "data": {
      "text/plain": [
       "'20160930_082811_796.npz'"
      ]
     },
     "execution_count": 6,
     "metadata": {},
     "output_type": "execute_result"
    }
   ],
   "source": [
    "sensor_directory_to_list_of_filenames_of_images_labeled_zero_dict['02'][0]"
   ]
  },
  {
   "cell_type": "code",
   "execution_count": 7,
   "metadata": {
    "collapsed": true
   },
   "outputs": [],
   "source": [
    "sensor_directory_to_dictionary_of_day_to_filenames_dict_labeled_zero = {}\n",
    "sensor_directory_to_dictionary_of_day_to_filenames_dict_labeled_one = {}"
   ]
  },
  {
   "cell_type": "code",
   "execution_count": 8,
   "metadata": {
    "collapsed": false
   },
   "outputs": [],
   "source": [
    "for sensor_dir in sensor_directories:\n",
    "    if os.path.isdir(pac_data_directory + \"/\" + sensor_dir + \"/0\"):\n",
    "        sensor_directory_to_dictionary_of_day_to_filenames_dict_labeled_zero[sensor_dir] = {}\n",
    "        for f in sensor_directory_to_list_of_filenames_of_images_labeled_zero_dict[sensor_dir]:\n",
    "            result_of_search = re.search(\"(\\d\\d\\d\\d\\d\\d\\d\\d).*\", f)\n",
    "            year_month_day = result_of_search.group(1)\n",
    "            if year_month_day in sensor_directory_to_dictionary_of_day_to_filenames_dict_labeled_zero[sensor_dir].keys():\n",
    "                sensor_directory_to_dictionary_of_day_to_filenames_dict_labeled_zero[sensor_dir][year_month_day].append(f)\n",
    "            else:\n",
    "                sensor_directory_to_dictionary_of_day_to_filenames_dict_labeled_zero[sensor_dir][year_month_day] = []\n",
    "                sensor_directory_to_dictionary_of_day_to_filenames_dict_labeled_zero[sensor_dir][year_month_day].append(f)\n",
    "    if os.path.isdir(pac_data_directory + \"/\" + sensor_dir + \"/1\"):\n",
    "        sensor_directory_to_dictionary_of_day_to_filenames_dict_labeled_one[sensor_dir] = {}\n",
    "        for f in sensor_directory_to_list_of_filenames_of_images_labeled_one_dict[sensor_dir]:\n",
    "            result_of_search = re.search(\"(\\d\\d\\d\\d\\d\\d\\d\\d).*\", f)\n",
    "            year_month_day = result_of_search.group(1)\n",
    "            if year_month_day in sensor_directory_to_dictionary_of_day_to_filenames_dict_labeled_one[sensor_dir].keys():\n",
    "                sensor_directory_to_dictionary_of_day_to_filenames_dict_labeled_one[sensor_dir][year_month_day].append(f)\n",
    "            else:\n",
    "                sensor_directory_to_dictionary_of_day_to_filenames_dict_labeled_one[sensor_dir][year_month_day] = []\n",
    "                sensor_directory_to_dictionary_of_day_to_filenames_dict_labeled_one[sensor_dir][year_month_day].append(f)"
   ]
  },
  {
   "cell_type": "code",
   "execution_count": 9,
   "metadata": {
    "collapsed": false
   },
   "outputs": [],
   "source": [
    "from datetime import datetime\n",
    "sensor_directory_to_dictionary_of_day_to_dictionary_of_time_interval_to_counts_dict_labeled_zero = {}\n",
    "sensor_directory_to_dictionary_of_day_to_dictionary_of_time_interval_to_counts_dict_labeled_one = {}\n",
    "sensor_directory_to_dictionary_of_day_to_dictionary_of_time_interval_to_counts_dict = {}\n",
    "for sensor_dir in sensor_directory_to_dictionary_of_day_to_filenames_dict_labeled_zero.keys():\n",
    "    sensor_directory_to_dictionary_of_day_to_dictionary_of_time_interval_to_counts_dict_labeled_zero[sensor_dir] = {}\n",
    "    sensor_directory_to_dictionary_of_day_to_dictionary_of_time_interval_to_counts_dict_labeled_one[sensor_dir] = {}\n",
    "    for year_month_day_str in sensor_directory_to_dictionary_of_day_to_filenames_dict_labeled_zero[sensor_dir].keys():\n",
    "        sensor_directory_to_dictionary_of_day_to_dictionary_of_time_interval_to_counts_dict_labeled_zero[sensor_dir][year_month_day_str] = {}\n",
    "        year_month_day_res = re.search(\"(\\d\\d\\d\\d)(\\d\\d)(\\d\\d)\", year_month_day_str)\n",
    "        year = year_month_day_res.group(1)\n",
    "        month = year_month_day_res.group(2)\n",
    "        day = year_month_day_res.group(3)\n",
    "        intervals = []\n",
    "        first_interval_start = datetime(int(year), int(month), int(day), 0, 0, 0)\n",
    "        first_interval_end = datetime(int(year), int(month), int(day), 4, 0, 0)\n",
    "        intervals.append((\"Midnight to 4:00am\", first_interval_start, first_interval_end))\n",
    "        second_interval_start = datetime(int(year), int(month), int(day), 4, 0, 1)\n",
    "        second_interval_end = datetime(int(year), int(month), int(day), 8, 0, 0)\n",
    "        intervals.append((\"4:00am to 8:00am\", second_interval_start, second_interval_end))\n",
    "        third_interval_start = datetime(int(year), int(month), int(day), 8, 0, 1)\n",
    "        third_interval_end = datetime(int(year), int(month), int(day), 12, 0, 0)\n",
    "        intervals.append((\"8:00am to Noon\", third_interval_start, third_interval_end))\n",
    "        fourth_interval_start = datetime(int(year), int(month), int(day), 12, 0, 1)\n",
    "        fourth_interval_end = datetime(int(year), int(month), int(day), 16, 0, 0)\n",
    "        intervals.append((\"Noon to 4:00pm\", fourth_interval_start, fourth_interval_end))\n",
    "        fifth_interval_start = datetime(int(year), int(month), int(day), 16, 0, 1)\n",
    "        fifth_interval_end = datetime(int(year), int(month), int(day), 20, 0, 0)\n",
    "        intervals.append((\"4:00pm to 8:00pm\", fifth_interval_start, fifth_interval_end))\n",
    "        sixth_interval_start = datetime(int(year), int(month), int(day), 20, 0, 1)\n",
    "        sixth_interval_end = datetime(int(year), int(month), int(day), 23, 59, 59)\n",
    "        intervals.append((\"8:00pm to Midnight\", sixth_interval_start, sixth_interval_end))\n",
    "        for f in sensor_directory_to_dictionary_of_day_to_filenames_dict_labeled_zero[sensor_dir][year_month_day_str]:\n",
    "            hour_minute_second_res = re.search(\"\\d\\d\\d\\d\\d\\d\\d\\d_(\\d\\d)(\\d\\d)(\\d\\d).*\", f)\n",
    "            hour = hour_minute_second_res.group(1)\n",
    "            minute = hour_minute_second_res.group(2)\n",
    "            second = hour_minute_second_res.group(3)\n",
    "            current_time = datetime(int(year), int(month), int(day), int(hour), int(minute), int(second))\n",
    "            for current_interval in intervals:\n",
    "                name, start_of_interval, end_of_interval = current_interval\n",
    "                if start_of_interval <= current_time and current_time <= end_of_interval:\n",
    "                    if name in sensor_directory_to_dictionary_of_day_to_dictionary_of_time_interval_to_counts_dict_labeled_zero[sensor_dir][year_month_day_str].keys():\n",
    "                        current_count = sensor_directory_to_dictionary_of_day_to_dictionary_of_time_interval_to_counts_dict_labeled_zero[sensor_dir][year_month_day_str][name]\n",
    "                        sensor_directory_to_dictionary_of_day_to_dictionary_of_time_interval_to_counts_dict_labeled_zero[sensor_dir][year_month_day_str][name] = 1 + current_count\n",
    "                    else:\n",
    "                        sensor_directory_to_dictionary_of_day_to_dictionary_of_time_interval_to_counts_dict_labeled_zero[sensor_dir][year_month_day_str][name] = 1\n",
    "                else:\n",
    "                    if not name in sensor_directory_to_dictionary_of_day_to_dictionary_of_time_interval_to_counts_dict_labeled_zero[sensor_dir][year_month_day_str].keys():\n",
    "                        sensor_directory_to_dictionary_of_day_to_dictionary_of_time_interval_to_counts_dict_labeled_zero[sensor_dir][year_month_day_str][name] = 0\n",
    "                    \n",
    "for sensor_dir in sensor_directory_to_dictionary_of_day_to_filenames_dict_labeled_one.keys():                        \n",
    "    for year_month_day_str_labeled_one in sensor_directory_to_dictionary_of_day_to_filenames_dict_labeled_one[sensor_dir].keys():\n",
    "        \n",
    "        sensor_directory_to_dictionary_of_day_to_dictionary_of_time_interval_to_counts_dict_labeled_one[sensor_dir][year_month_day_str_labeled_one] = {}\n",
    "        year_month_day_res = re.search(\"(\\d\\d\\d\\d)(\\d\\d)(\\d\\d)\", year_month_day_str_labeled_one)\n",
    "        year = year_month_day_res.group(1)\n",
    "        month = year_month_day_res.group(2)\n",
    "        day = year_month_day_res.group(3)\n",
    "        intervals = []\n",
    "        first_interval_start = datetime(int(year), int(month), int(day), 0, 0, 0)\n",
    "        first_interval_end = datetime(int(year), int(month), int(day), 4, 0, 0)\n",
    "        intervals.append((\"Midnight to 4:00am\", first_interval_start, first_interval_end))\n",
    "        second_interval_start = datetime(int(year), int(month), int(day), 4, 0, 1)\n",
    "        second_interval_end = datetime(int(year), int(month), int(day), 8, 0, 0)\n",
    "        intervals.append((\"4:00am to 8:00am\", second_interval_start, second_interval_end))\n",
    "        third_interval_start = datetime(int(year), int(month), int(day), 8, 0, 1)\n",
    "        third_interval_end = datetime(int(year), int(month), int(day), 12, 0, 0)\n",
    "        intervals.append((\"8:00am to Noon\", third_interval_start, third_interval_end))\n",
    "        fourth_interval_start = datetime(int(year), int(month), int(day), 12, 0, 1)\n",
    "        fourth_interval_end = datetime(int(year), int(month), int(day), 16, 0, 0)\n",
    "        intervals.append((\"Noon to 4:00pm\", fourth_interval_start, fourth_interval_end))\n",
    "        fifth_interval_start = datetime(int(year), int(month), int(day), 16, 0, 1)\n",
    "        fifth_interval_end = datetime(int(year), int(month), int(day), 20, 0, 0)\n",
    "        intervals.append((\"4:00pm to 8:00pm\", fifth_interval_start, fifth_interval_end))\n",
    "        sixth_interval_start = datetime(int(year), int(month), int(day), 20, 0, 1)\n",
    "        sixth_interval_end = datetime(int(year), int(month), int(day), 23, 59, 59)\n",
    "        intervals.append((\"8:00pm to Midnight\", sixth_interval_start, sixth_interval_end))\n",
    "        for f in sensor_directory_to_dictionary_of_day_to_filenames_dict_labeled_one[sensor_dir][year_month_day_str_labeled_one]:\n",
    "            hour_minute_second_res = re.search(\"\\d\\d\\d\\d\\d\\d\\d\\d_(\\d\\d)(\\d\\d)(\\d\\d).*\", f)\n",
    "            hour = hour_minute_second_res.group(1)\n",
    "            minute = hour_minute_second_res.group(2)\n",
    "            second = hour_minute_second_res.group(3)\n",
    "            current_time = datetime(int(year), int(month), int(day), int(hour), int(minute), int(second))\n",
    "            for current_interval in intervals:\n",
    "                name, start_of_interval, end_of_interval = current_interval\n",
    "                if start_of_interval <= current_time and current_time <= end_of_interval:\n",
    "                    if name in sensor_directory_to_dictionary_of_day_to_dictionary_of_time_interval_to_counts_dict_labeled_one[sensor_dir][year_month_day_str_labeled_one].keys():\n",
    "                        current_count = sensor_directory_to_dictionary_of_day_to_dictionary_of_time_interval_to_counts_dict_labeled_one[sensor_dir][year_month_day_str_labeled_one][name]\n",
    "                        sensor_directory_to_dictionary_of_day_to_dictionary_of_time_interval_to_counts_dict_labeled_one[sensor_dir][year_month_day_str_labeled_one][name] = 1 + current_count\n",
    "                    else:\n",
    "                        sensor_directory_to_dictionary_of_day_to_dictionary_of_time_interval_to_counts_dict_labeled_one[sensor_dir][year_month_day_str_labeled_one][name] = 1\n",
    "                else:\n",
    "                    if not name in sensor_directory_to_dictionary_of_day_to_dictionary_of_time_interval_to_counts_dict_labeled_one[sensor_dir][year_month_day_str_labeled_one].keys():\n",
    "                        sensor_directory_to_dictionary_of_day_to_dictionary_of_time_interval_to_counts_dict_labeled_one[sensor_dir][year_month_day_str_labeled_one][name] = 0"
   ]
  },
  {
   "cell_type": "code",
   "execution_count": 10,
   "metadata": {
    "collapsed": false
   },
   "outputs": [],
   "source": [
    "%matplotlib inline\n",
    "import matplotlib.pyplot as plt\n",
    "import numpy as np\n",
    "import cv2\n",
    "import os\n",
    "import re\n",
    "from os.path import isfile\n",
    "\n",
    "\n",
    "\n",
    "for sensor_dir in sensor_directory_to_dictionary_of_day_to_dictionary_of_time_interval_to_counts_dict_labeled_zero.keys():\n",
    "    for day in sensor_directory_to_dictionary_of_day_to_dictionary_of_time_interval_to_counts_dict_labeled_zero[sensor_dir].keys():\n",
    "        name_of_intervals = []\n",
    "        name_of_intervals.append(\"Midnight-4am\")\n",
    "        name_of_intervals.append(\"4am-8am\")\n",
    "        name_of_intervals.append(\"8am-Noon\")\n",
    "        name_of_intervals.append(\"Noon-4pm\")\n",
    "        name_of_intervals.append(\"4pm-8pm\")\n",
    "        name_of_intervals.append(\"8pm-Midnight\")\n",
    "        counts_of_intervals_labeled_zero = []\n",
    "        counts_of_intervals_labeled_one = []\n",
    "        counts_of_intervals_labeled_zero.append(sensor_directory_to_dictionary_of_day_to_dictionary_of_time_interval_to_counts_dict_labeled_zero[sensor_dir][day][\"Midnight to 4:00am\"])\n",
    "        counts_of_intervals_labeled_zero.append(sensor_directory_to_dictionary_of_day_to_dictionary_of_time_interval_to_counts_dict_labeled_zero[sensor_dir][day][\"4:00am to 8:00am\"])\n",
    "        counts_of_intervals_labeled_zero.append(sensor_directory_to_dictionary_of_day_to_dictionary_of_time_interval_to_counts_dict_labeled_zero[sensor_dir][day][\"8:00am to Noon\"])\n",
    "        counts_of_intervals_labeled_zero.append(sensor_directory_to_dictionary_of_day_to_dictionary_of_time_interval_to_counts_dict_labeled_zero[sensor_dir][day][\"Noon to 4:00pm\"])\n",
    "        counts_of_intervals_labeled_zero.append(sensor_directory_to_dictionary_of_day_to_dictionary_of_time_interval_to_counts_dict_labeled_zero[sensor_dir][day][\"4:00pm to 8:00pm\"])\n",
    "        counts_of_intervals_labeled_zero.append(sensor_directory_to_dictionary_of_day_to_dictionary_of_time_interval_to_counts_dict_labeled_zero[sensor_dir][day][\"8:00pm to Midnight\"])\n",
    "        if day in sensor_directory_to_dictionary_of_day_to_dictionary_of_time_interval_to_counts_dict_labeled_one[sensor_dir].keys():\n",
    "            counts_of_intervals_labeled_one.append(sensor_directory_to_dictionary_of_day_to_dictionary_of_time_interval_to_counts_dict_labeled_one[sensor_dir][day][\"Midnight to 4:00am\"])\n",
    "            counts_of_intervals_labeled_one.append(sensor_directory_to_dictionary_of_day_to_dictionary_of_time_interval_to_counts_dict_labeled_one[sensor_dir][day][\"4:00am to 8:00am\"])\n",
    "            counts_of_intervals_labeled_one.append(sensor_directory_to_dictionary_of_day_to_dictionary_of_time_interval_to_counts_dict_labeled_one[sensor_dir][day][\"8:00am to Noon\"])\n",
    "            counts_of_intervals_labeled_one.append(sensor_directory_to_dictionary_of_day_to_dictionary_of_time_interval_to_counts_dict_labeled_one[sensor_dir][day][\"Noon to 4:00pm\"])\n",
    "            counts_of_intervals_labeled_one.append(sensor_directory_to_dictionary_of_day_to_dictionary_of_time_interval_to_counts_dict_labeled_one[sensor_dir][day][\"4:00pm to 8:00pm\"]) \n",
    "            counts_of_intervals_labeled_one.append(sensor_directory_to_dictionary_of_day_to_dictionary_of_time_interval_to_counts_dict_labeled_one[sensor_dir][day][\"8:00pm to Midnight\"])\n",
    "        else:\n",
    "            counts_of_intervals_labeled_one.append(0)\n",
    "            counts_of_intervals_labeled_one.append(0)\n",
    "            counts_of_intervals_labeled_one.append(0)\n",
    "            counts_of_intervals_labeled_one.append(0)\n",
    "            counts_of_intervals_labeled_one.append(0)\n",
    "            counts_of_intervals_labeled_one.append(0)\n",
    "        \n",
    "        ind = np.arange(len(name_of_intervals))\n",
    "        width = 0.27\n",
    "        fig = plt.figure()\n",
    "        ax = fig.add_subplot(111)\n",
    "        rects1 = ax.bar(ind, counts_of_intervals_labeled_zero, width, color = 'r')\n",
    "        rects2 = ax.bar(ind+width*2, counts_of_intervals_labeled_one, width, color='g')\n",
    "        ax.set_ylabel('Counts')\n",
    "        ax.set_xticks(ind+width)\n",
    "        ax.set_xticklabels((\"Midnight-4am\", \"4am-8am\", \"8am-Noon\", \"Noon-4pm\", \"4pm-8pm\", \"8pm-Midnight\"))\n",
    "        ax.legend((rects1[0], rects2[0]), ('0', '1'))\n",
    "        def autolabel(rects):\n",
    "            for rect in rects:\n",
    "                h = rect.get_height()\n",
    "                ax.text(rect.get_x()+rect.get_width()/2., 1.05*h, '%d'%int(h), ha='center', va='bottom')\n",
    "        autolabel(rects1)\n",
    "        autolabel(rects2)\n",
    "        plt.savefig(sensor_dir + \"_\" + day)\n",
    "        plt.close()\n",
    "        "
   ]
  },
  {
   "cell_type": "code",
   "execution_count": 72,
   "metadata": {
    "collapsed": false
   },
   "outputs": [
    {
     "data": {
      "image/png": "[encoded data removed]",
      "text/plain": [
       "<matplotlib.figure.Figure at 0x11e9d5e80>"
      ]
     },
     "metadata": {},
     "output_type": "display_data"
    }
   ],
   "source": [
    "import numpy as np\n",
    "import matplotlib.pyplot as plt\n",
    "\n",
    "N = 4\n",
    "ind = np.arange(N)  # the x locations for the groups\n",
    "width = 0.27       # the width of the bars\n",
    "\n",
    "fig = plt.figure()\n",
    "ax = fig.add_subplot(111)\n",
    "\n",
    "yvals = [4, 9, 2, 4]\n",
    "rects1 = ax.bar(ind, yvals, width, color='r')\n",
    "zvals = [1,2,3,4]\n",
    "rects2 = ax.bar(ind+width, zvals, width, color='g')\n",
    "kvals = [11,12,13, 3]\n",
    "rects3 = ax.bar(ind+width*2, kvals, width, color='b')\n",
    "\n",
    "ax.set_ylabel('Scores')\n",
    "ax.set_xticks(ind+width)\n",
    "ax.set_xticklabels( ('2011-Jan-4', '2011-Jan-5', '2011-Jan-6', '2011-Jan-7'))\n",
    "ax.legend( (rects1[0], rects2[0], rects3[0]), ('y', 'z', 'k'))\n",
    "\n",
    "def autolabel(rects):\n",
    "    for rect in rects:\n",
    "        h = rect.get_height()\n",
    "        ax.text(rect.get_x()+rect.get_width()/2., 1.05*h, '%d'%int(h),\n",
    "                ha='center', va='bottom')\n",
    "\n",
    "autolabel(rects1)\n",
    "autolabel(rects2)\n",
    "autolabel(rects3)\n",
    "\n",
    "plt.show()"
   ]
  },
  {
   "cell_type": "code",
   "execution_count": 35,
   "metadata": {
    "collapsed": false
   },
   "outputs": [],
   "source": []
  },
  {
   "cell_type": "code",
   "execution_count": null,
   "metadata": {
    "collapsed": true
   },
   "outputs": [],
   "source": []
  }
 ],
 "metadata": {
  "kernelspec": {
   "display_name": "Python 3",
   "language": "python",
   "name": "python3"
  },
  "language_info": {
   "codemirror_mode": {
    "name": "ipython",
    "version": 3
   },
   "file_extension": ".py",
   "mimetype": "text/x-python",
   "name": "python",
   "nbconvert_exporter": "python",
   "pygments_lexer": "ipython3",
   "version": "3.5.2"
  }
 },
 "nbformat": 4,
 "nbformat_minor": 0
}
