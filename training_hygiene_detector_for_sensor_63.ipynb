{
 "cells": [
  {
   "cell_type": "code",
   "execution_count": 1,
   "metadata": {
    "collapsed": true
   },
   "outputs": [],
   "source": [
    "import PAC_experiment_class as pac\n",
    "import os\n",
    "os.environ['TF_CPP_MIN_LOG_LEVEL'] = '3'\n",
    "import tensorflow as tf\n",
    "from tensorflow.python.client import timeline\n",
    "import time"
   ]
  },
  {
   "cell_type": "code",
   "execution_count": 2,
   "metadata": {
    "collapsed": true
   },
   "outputs": [],
   "source": [
    "experiment_directory_suffix = \"hygiene_detector_for_sensor_63\"\n",
    "experiment_directory_name = None"
   ]
  },
  {
   "cell_type": "code",
   "execution_count": 3,
   "metadata": {
    "collapsed": true
   },
   "outputs": [],
   "source": [
    "def initialize_params_for_experiment():\n",
    "    params_initialization_for_training = {}\n",
    "    params_initialization_for_training['training_path_zero_labeled'] = \"data/0/training_filenames_63.txt\"\n",
    "    params_initialization_for_training['training_path_one_labeled'] = \"data/1/training_filenames_63.txt\"\n",
    "    params_initialization_for_training['batch_size'] = 64\n",
    "    params_initialization_for_training['stage_of_development'] = \"training\"\n",
    "    params_initialization_for_training['learning_rate'] = 0.001\n",
    "    params_initialization_for_training['learning_rate_decay_factor'] = 0.99\n",
    "    params_initialization_for_training['max_steps'] = None\n",
    "    params_initialization_for_training['num_epochs'] = 1\n",
    "    return pac.initialize_params(experiment_directory_name,\n",
    "                          experiment_directory_suffix,\n",
    "                          \"training\",\n",
    "                          params_initialization_for_training=params_initialization_for_training)"
   ]
  },
  {
   "cell_type": "code",
   "execution_count": 4,
   "metadata": {
    "collapsed": false
   },
   "outputs": [
    {
     "name": "stdout",
     "output_type": "stream",
     "text": [
      "Created model with fresh parameters.\n",
      "Length of Time (in seconds) for preprocessing 84.47298002243042\n",
      "Batch Size of List of Filenames 64\n",
      "Batch Size of List of Label Images 64\n",
      "global step 1 learning rate 0.0010 step-time 5.41 loss 0.70\n",
      "Batch Size of List of Filenames 64\n",
      "Batch Size of List of Label Images 64\n",
      "global step 2 learning rate 0.0010 step-time 5.67 loss 0.70\n",
      "Batch Size of List of Filenames 64\n",
      "Batch Size of List of Label Images 64\n",
      "global step 3 learning rate 0.0010 step-time 5.15 loss 0.70\n",
      "Batch Size of List of Filenames 64\n",
      "Batch Size of List of Label Images 64\n",
      "global step 4 learning rate 0.0010 step-time 5.15 loss 0.69\n",
      "Batch Size of List of Filenames 64\n",
      "Batch Size of List of Label Images 64\n",
      "global step 5 learning rate 0.0010 step-time 7.69 loss 0.69\n",
      "Batch Size of List of Filenames 64\n",
      "Batch Size of List of Label Images 64\n",
      "global step 6 learning rate 0.0010 step-time 7.43 loss 0.70\n",
      "Batch Size of List of Filenames 64\n",
      "Batch Size of List of Label Images 64\n",
      "global step 7 learning rate 0.0010 step-time 7.61 loss 0.69\n",
      "Batch Size of List of Filenames 64\n",
      "Batch Size of List of Label Images 64\n",
      "global step 8 learning rate 0.0010 step-time 7.74 loss 0.70\n",
      "Batch Size of List of Filenames 64\n",
      "Batch Size of List of Label Images 64\n",
      "global step 9 learning rate 0.0010 step-time 7.66 loss 0.70\n",
      "Batch Size of List of Filenames 64\n",
      "Batch Size of List of Label Images 64\n",
      "global step 10 learning rate 0.0010 step-time 7.66 loss 0.70\n",
      "Batch Size of List of Filenames 64\n",
      "Batch Size of List of Label Images 64\n",
      "global step 11 learning rate 0.0010 step-time 7.80 loss 0.69\n",
      "Batch Size of List of Filenames 64\n",
      "Batch Size of List of Label Images 64\n",
      "global step 12 learning rate 0.0010 step-time 7.58 loss 0.70\n",
      "Batch Size of List of Filenames 64\n",
      "Batch Size of List of Label Images 64\n",
      "global step 13 learning rate 0.0010 step-time 7.77 loss 0.70\n",
      "Batch Size of List of Filenames 64\n",
      "Batch Size of List of Label Images 64\n",
      "global step 14 learning rate 0.0010 step-time 7.34 loss 0.69\n",
      "Batch Size of List of Filenames 64\n",
      "Batch Size of List of Label Images 64\n",
      "global step 15 learning rate 0.0010 step-time 7.78 loss 0.70\n",
      "Batch Size of List of Filenames 64\n",
      "Batch Size of List of Label Images 64\n",
      "global step 16 learning rate 0.0010 step-time 7.74 loss 0.70\n",
      "Batch Size of List of Filenames 64\n",
      "Batch Size of List of Label Images 64\n",
      "global step 17 learning rate 0.0010 step-time 8.40 loss 0.69\n",
      "Batch Size of List of Filenames 64\n",
      "Batch Size of List of Label Images 64\n",
      "global step 18 learning rate 0.0010 step-time 7.65 loss 0.69\n",
      "Batch Size of List of Filenames 64\n",
      "Batch Size of List of Label Images 64\n",
      "global step 19 learning rate 0.0010 step-time 7.69 loss 0.69\n",
      "Batch Size of List of Filenames 64\n",
      "Batch Size of List of Label Images 64\n",
      "global step 20 learning rate 0.0010 step-time 7.65 loss 0.69\n",
      "Batch Size of List of Filenames 64\n",
      "Batch Size of List of Label Images 64\n",
      "global step 21 learning rate 0.0010 step-time 9.85 loss 0.70\n",
      "Batch Size of List of Filenames 64\n",
      "Batch Size of List of Label Images 64\n",
      "global step 22 learning rate 0.0010 step-time 11.45 loss 0.70\n",
      "Batch Size of List of Filenames 64\n",
      "Batch Size of List of Label Images 64\n",
      "global step 23 learning rate 0.0010 step-time 9.24 loss 0.70\n",
      "Batch Size of List of Filenames 64\n",
      "Batch Size of List of Label Images 64\n",
      "global step 24 learning rate 0.0009 step-time 9.79 loss 0.70\n",
      "Batch Size of List of Filenames 64\n",
      "Batch Size of List of Label Images 64\n",
      "global step 25 learning rate 0.0009 step-time 9.55 loss 0.70\n",
      "Batch Size of List of Filenames 64\n",
      "Batch Size of List of Label Images 64\n",
      "global step 26 learning rate 0.0009 step-time 9.72 loss 0.69\n",
      "Batch Size of List of Filenames 64\n",
      "Batch Size of List of Label Images 64\n",
      "global step 27 learning rate 0.0009 step-time 9.13 loss 0.70\n",
      "Batch Size of List of Filenames 64\n",
      "Batch Size of List of Label Images 64\n",
      "global step 28 learning rate 0.0009 step-time 11.55 loss 0.69\n",
      "Batch Size of List of Filenames 64\n",
      "Batch Size of List of Label Images 64\n",
      "global step 29 learning rate 0.0009 step-time 10.16 loss 0.69\n",
      "Batch Size of List of Filenames 64\n",
      "Batch Size of List of Label Images 64\n",
      "global step 30 learning rate 0.0009 step-time 9.43 loss 0.70\n",
      "Batch Size of List of Filenames 64\n",
      "Batch Size of List of Label Images 64\n",
      "global step 31 learning rate 0.0009 step-time 9.17 loss 0.69\n",
      "Batch Size of List of Filenames 64\n",
      "Batch Size of List of Label Images 64\n",
      "global step 32 learning rate 0.0009 step-time 9.35 loss 0.69\n",
      "Batch Size of List of Filenames 64\n",
      "Batch Size of List of Label Images 64\n",
      "global step 33 learning rate 0.0009 step-time 6.12 loss 0.69\n",
      "Batch Size of List of Filenames 64\n",
      "Batch Size of List of Label Images 64\n",
      "global step 34 learning rate 0.0009 step-time 5.94 loss 0.70\n",
      "Batch Size of List of Filenames 64\n",
      "Batch Size of List of Label Images 64\n",
      "global step 35 learning rate 0.0009 step-time 6.21 loss 0.69\n",
      "Batch Size of List of Filenames 64\n",
      "Batch Size of List of Label Images 64\n",
      "global step 36 learning rate 0.0009 step-time 6.53 loss 0.69\n",
      "Batch Size of List of Filenames 64\n",
      "Batch Size of List of Label Images 64\n",
      "global step 37 learning rate 0.0009 step-time 6.51 loss 0.70\n",
      "Batch Size of List of Filenames 64\n",
      "Batch Size of List of Label Images 64\n",
      "global step 38 learning rate 0.0009 step-time 6.53 loss 0.69\n",
      "Batch Size of List of Filenames 64\n",
      "Batch Size of List of Label Images 64\n",
      "global step 39 learning rate 0.0009 step-time 6.67 loss 0.69\n",
      "Batch Size of List of Filenames 64\n",
      "Batch Size of List of Label Images 64\n",
      "global step 40 learning rate 0.0009 step-time 6.50 loss 0.70\n",
      "Batch Size of List of Filenames 64\n",
      "Batch Size of List of Label Images 64\n",
      "global step 41 learning rate 0.0009 step-time 6.59 loss 0.70\n",
      "Batch Size of List of Filenames 64\n",
      "Batch Size of List of Label Images 64\n",
      "global step 42 learning rate 0.0009 step-time 6.88 loss 0.69\n",
      "Batch Size of List of Filenames 64\n",
      "Batch Size of List of Label Images 64\n",
      "global step 43 learning rate 0.0009 step-time 6.82 loss 0.69\n",
      "Batch Size of List of Filenames 64\n",
      "Batch Size of List of Label Images 64\n",
      "global step 44 learning rate 0.0009 step-time 7.56 loss 0.69\n",
      "Batch Size of List of Filenames 64\n",
      "Batch Size of List of Label Images 64\n",
      "global step 45 learning rate 0.0009 step-time 7.38 loss 0.69\n",
      "Batch Size of List of Filenames 64\n",
      "Batch Size of List of Label Images 64\n",
      "global step 46 learning rate 0.0009 step-time 7.41 loss 0.69\n",
      "Batch Size of List of Filenames 64\n",
      "Batch Size of List of Label Images 64\n",
      "global step 47 learning rate 0.0009 step-time 7.08 loss 0.70\n",
      "Batch Size of List of Filenames 64\n",
      "Batch Size of List of Label Images 64\n",
      "global step 48 learning rate 0.0009 step-time 7.33 loss 0.69\n",
      "Batch Size of List of Filenames 64\n",
      "Batch Size of List of Label Images 64\n",
      "global step 49 learning rate 0.0009 step-time 7.23 loss 0.69\n",
      "Batch Size of List of Filenames 64\n",
      "Batch Size of List of Label Images 64\n",
      "global step 50 learning rate 0.0009 step-time 8.28 loss 0.69\n",
      "Batch Size of List of Filenames 64\n",
      "Batch Size of List of Label Images 64\n",
      "global step 51 learning rate 0.0009 step-time 7.60 loss 0.69\n",
      "Batch Size of List of LAST Filenames 64\n",
      "Batch Size of List of LAST Label Images 64\n",
      "global step 52 learning rate 0.0009 step-time 7.43 loss 0.69\n"
     ]
    }
   ],
   "source": [
    "params, filenames_of_training_images, labels_of_training_images = initialize_params_for_experiment()\n",
    "pac.run_training_with_feed_dictionary(params, \"/gpu:0\", filenames_of_training_images, labels_of_training_images)"
   ]
  },
  {
   "cell_type": "code",
   "execution_count": null,
   "metadata": {
    "collapsed": true
   },
   "outputs": [],
   "source": []
  },
  {
   "cell_type": "code",
   "execution_count": null,
   "metadata": {
    "collapsed": true
   },
   "outputs": [],
   "source": [
    "def initialize_params_for_resuming_training_from_checkpoint():\n",
    "    params_initialization_for_resume_training = {}\n",
    "    params_initialization_for_resume_training['resume_training'] = True\n",
    "    params_initialization_for_resume_training['training_path_zero_labeled'] = \"data/0/training_filenames_63.txt\"\n",
    "    params_initialization_for_resume_training['training_path_one_labeled'] = \"data/1/training_filenames_63.txt\"\n",
    "    params_initialization_for_resume_training['data_dir'] = 'data'\n",
    "    params_initialization_for_resume_training['logs_dir'] = 'logs'\n",
    "    params_initialization_for_resume_training['max_steps'] = 4\n",
    "    params_initialization_for_resume_training['num_epochs'] = 1\n",
    "    params_initialization_for_resume_training['batch_size'] = 32\n",
    "    return pac.initialize_params(experiment_directory_name,\n",
    "           experiment_directory_suffix,\n",
    "           \"resume_training\",\n",
    "           params_initialization_for_resume_training=params_initialization_for_resume_training)"
   ]
  },
  {
   "cell_type": "code",
   "execution_count": null,
   "metadata": {
    "collapsed": true
   },
   "outputs": [],
   "source": [
    "params, filenames_of_resume_training_images, labels_of_resume_training_images = initialize_params_for_resuming_training_from_checkpoint()\n",
    "pac.run_training_with_feed_dictionary(params, \"/gpu:0\", filenames_of_resume_training_images, labels_of_resume_training_images)"
   ]
  },
  {
   "cell_type": "code",
   "execution_count": null,
   "metadata": {
    "collapsed": true
   },
   "outputs": [],
   "source": []
  },
  {
   "cell_type": "code",
   "execution_count": 5,
   "metadata": {
    "collapsed": true
   },
   "outputs": [],
   "source": [
    "def initialize_params_for_evaluation_from_checkpoint():\n",
    "    params_initialization_for_evaluation = {}\n",
    "    params_initialization_for_evaluation['evaluate_model'] = True\n",
    "    params_initialization_for_evaluation['resume_training'] = False\n",
    "    params_initialization_for_evaluation['stage_of_development'] = \"evaluation\"\n",
    "    params_initialization_for_evaluation['dev_path_zero_labeled'] = \"data/0/dev_filenames_63.txt\"\n",
    "    params_initialization_for_evaluation['dev_path_one_labeled'] = \"data/1/dev_filenames_63.txt\"\n",
    "    params_initialization_for_evaluation['data_dir'] = 'data'\n",
    "    params_initialization_for_evaluation['logs_dir'] = 'logs'\n",
    "    params_initialization_for_evaluation['max_steps'] = None\n",
    "    params_initialization_for_evaluation['num_epochs'] = 1\n",
    "    params_initialization_for_evaluation['batch_size'] = 32\n",
    "    return pac.initialize_params(experiment_directory_name,\n",
    "                                    experiment_directory_suffix,\n",
    "                                    \"evaluation\",\n",
    "                                    params_initialization_for_evaluation=params_initialization_for_evaluation)"
   ]
  },
  {
   "cell_type": "code",
   "execution_count": 6,
   "metadata": {
    "collapsed": false
   },
   "outputs": [
    {
     "name": "stdout",
     "output_type": "stream",
     "text": [
      "Reading model parameters from logs/0000000016_experiment_2018-01-14_20:10:44_hygiene_detector_for_sensor_63/translate.ckpt-52\n",
      "Done creating the model.\n",
      "Length of Time (in seconds) for preprocessing 34.257261991500854\n",
      "Accuracy For Current Batch: 0.4375 \n",
      "Accuracy For Current Batch: 0.5 \n",
      "Accuracy For Current Batch: 0.5 \n",
      "Accuracy For Current Batch: 0.46875 \n",
      "Accuracy For Current Batch: 0.46875 \n",
      "Accuracy For Current Batch: 0.53125 \n",
      "Accuracy For Current Batch: 0.53125 \n",
      "Accuracy For Current Batch: 0.5 \n",
      "Accuracy For Current Batch: 0.46875 \n",
      "Accuracy For Current Batch: 0.53125 \n",
      "Accuracy For Current Batch: 0.53125 \n",
      "Accuracy For Current Batch: 0.46875 \n",
      "Accuracy For Current Batch: 0.46875 \n",
      "Accuracy For Current Batch: 0.46875 \n",
      "Accuracy For Current Batch: 0.46875 \n",
      "Accuracy For Current Batch: 0.46875 \n",
      "Accuracy For Current Batch: 0.5 \n",
      "Accuracy For Current Batch: 0.5 \n",
      "Accuracy For Current Batch: 0.5625 \n",
      "Accuracy For Current Batch: 0.5 \n",
      "Accuracy For Current Batch: 0.5 \n",
      "Accuracy For Current Batch: 0.375 \n",
      "Accuracy For Current Batch: 0.5625 \n",
      "Accuracy For Current Batch: 0.53125 \n",
      "Accuracy For Current Batch: 0.5 \n",
      "Accuracy For Current Batch: 0.5 \n",
      "Accuracy For Current Batch: 0.5 \n",
      "Accuracy For Current Batch: 0.53125 \n",
      "Accuracy For Current Batch: 0.5 \n",
      "Accuracy For Current Batch: 0.40625 \n",
      "Average Accuracy Across Batches: 0.49270833333333336 \n"
     ]
    }
   ],
   "source": [
    "params, filenames_of_evaluation_images, labels_of_evaluation_images = initialize_params_for_evaluation_from_checkpoint()\n",
    "pac.evaluate_model_with_feed_dictionary(params, \"/gpu:0\", filenames_of_evaluation_images, labels_of_evaluation_images)"
   ]
  },
  {
   "cell_type": "code",
   "execution_count": null,
   "metadata": {
    "collapsed": true
   },
   "outputs": [],
   "source": []
  }
 ],
 "metadata": {
  "kernelspec": {
   "display_name": "Python 3",
   "language": "python",
   "name": "python3"
  },
  "language_info": {
   "codemirror_mode": {
    "name": "ipython",
    "version": 3
   },
   "file_extension": ".py",
   "mimetype": "text/x-python",
   "name": "python",
   "nbconvert_exporter": "python",
   "pygments_lexer": "ipython3",
   "version": "3.5.2"
  }
 },
 "nbformat": 4,
 "nbformat_minor": 0
}
